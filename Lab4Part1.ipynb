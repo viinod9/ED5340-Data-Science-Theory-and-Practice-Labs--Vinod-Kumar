{
  "nbformat": 4,
  "nbformat_minor": 0,
  "metadata": {
    "colab": {
      "provenance": []
    },
    "kernelspec": {
      "name": "python3",
      "display_name": "Python 3"
    },
    "language_info": {
      "name": "python"
    }
  },
  "cells": [
    {
      "cell_type": "markdown",
      "source": [
        "1. Explore the use and syntax of common built-in functions:\n",
        "\n",
        "    range(),\n",
        "\n",
        "    iter(),\n",
        "\n",
        "    eval(),\n",
        "\n",
        "    enumerate(),\n",
        "\n",
        "    zip(),\n",
        "\n",
        "    lambda,\n",
        "\n",
        "    input(),\n",
        "\n",
        "    map(),\n",
        "\n",
        "    filter(),\n",
        "\n",
        "    next()\n",
        "\n",
        "    reduce()\n",
        "\n",
        "Include a short description and a practical code example for each, ensuring clarity through comments."
      ],
      "metadata": {
        "id": "_bMhK2eqt2OA"
      }
    },
    {
      "cell_type": "code",
      "execution_count": 109,
      "metadata": {
        "colab": {
          "base_uri": "https://localhost:8080/"
        },
        "id": "vOvI-6DXta7V",
        "outputId": "cd08f437-7ae6-40fd-aa74-45785e18a252"
      },
      "outputs": [
        {
          "output_type": "stream",
          "name": "stdout",
          "text": [
            "0\n",
            "2\n",
            "4\n",
            "6\n",
            "8\n"
          ]
        }
      ],
      "source": [
        "# Generate numbers from 0 to 9 with step 2\n",
        "for i in range(0, 10, 2):\n",
        "    print(i)"
      ]
    },
    {
      "cell_type": "code",
      "source": [
        "lis1 = [1, 2, 3, 4, 5]\n",
        "# converting list using iter()\n",
        "lis1 = iter(lis1)\n",
        "print(\"Values at 1st iteration : \")\n",
        "for i in range(0, 5):\n",
        "    print(next(lis1))"
      ],
      "metadata": {
        "colab": {
          "base_uri": "https://localhost:8080/"
        },
        "id": "5AcYvZL2t0MX",
        "outputId": "b906de51-c875-485a-d570-914fbc436af2"
      },
      "execution_count": 6,
      "outputs": [
        {
          "output_type": "stream",
          "name": "stdout",
          "text": [
            "Values at 1st iteration : \n",
            "1\n",
            "2\n",
            "3\n",
            "4\n",
            "5\n"
          ]
        }
      ]
    },
    {
      "cell_type": "code",
      "source": [
        "#The eval(): Evaluates the specified expression, if the expression is a legal Python statement, it will be executed.\n",
        "x = 'print(55)'\n",
        "eval(x)"
      ],
      "metadata": {
        "colab": {
          "base_uri": "https://localhost:8080/"
        },
        "id": "esXMrWhVutdh",
        "outputId": "f6987330-b0db-4c17-f1cf-e44a3b0154bd"
      },
      "execution_count": 7,
      "outputs": [
        {
          "output_type": "stream",
          "name": "stdout",
          "text": [
            "55\n"
          ]
        }
      ]
    },
    {
      "cell_type": "code",
      "source": [
        "l1 = [\"IIT\", \"Madras\", \"M.Tech\"]\n",
        "s1 = \"Vinod\"\n",
        "\n",
        "# creating enumerate objects\n",
        "obj1 = enumerate(l1)\n",
        "obj2 = enumerate(s1)\n",
        "\n",
        "print (\"Return type:\", type(obj1))\n",
        "print (list(enumerate(l1)))\n",
        "\n",
        "# changing start index to 2 from 0\n",
        "print (list(enumerate(s1, 2)))"
      ],
      "metadata": {
        "colab": {
          "base_uri": "https://localhost:8080/"
        },
        "id": "WgqBWXuIvjaF",
        "outputId": "dbd5c34d-b203-4570-cc70-bfa8d2b37e16"
      },
      "execution_count": 14,
      "outputs": [
        {
          "output_type": "stream",
          "name": "stdout",
          "text": [
            "Return type: <class 'enumerate'>\n",
            "[(0, 'IIT'), (1, 'Madras'), (2, 'M.Tech')]\n",
            "[(2, 'V'), (3, 'i'), (4, 'n'), (5, 'o'), (6, 'd')]\n"
          ]
        }
      ]
    },
    {
      "cell_type": "code",
      "source": [
        "a = (\"Vinod\", \"Pinki\", \"Prabhat\")\n",
        "b = (\"Male\", \"Female\", \"Male\")\n",
        "\n",
        "x = zip(a, b)\n",
        "print(tuple(x))"
      ],
      "metadata": {
        "colab": {
          "base_uri": "https://localhost:8080/"
        },
        "id": "IwbHMnAmv3us",
        "outputId": "d55870bc-a304-41a1-da75-f3046cf172a8"
      },
      "execution_count": 15,
      "outputs": [
        {
          "output_type": "stream",
          "name": "stdout",
          "text": [
            "(('Vinod', 'Male'), ('Pinki', 'Female'), ('Prabhat', 'Male'))\n"
          ]
        }
      ]
    },
    {
      "cell_type": "code",
      "source": [
        "#A lambda function can take any number of arguments, but can only have one expression.\n",
        "x = lambda y : y + 10\n",
        "print(x(5))"
      ],
      "metadata": {
        "colab": {
          "base_uri": "https://localhost:8080/"
        },
        "id": "fDKBpRUwwZ83",
        "outputId": "16278f70-e7f9-4f33-ce54-353cb8cdb10f"
      },
      "execution_count": 17,
      "outputs": [
        {
          "output_type": "stream",
          "name": "stdout",
          "text": [
            "15\n"
          ]
        }
      ]
    },
    {
      "cell_type": "code",
      "source": [
        "inp = input(\"Enter the input : \")\n",
        "print(inp)"
      ],
      "metadata": {
        "colab": {
          "base_uri": "https://localhost:8080/"
        },
        "id": "6RciOsB8xWSi",
        "outputId": "b88e6d6c-5dcb-4142-d038-d6307e3c90e3"
      },
      "execution_count": 19,
      "outputs": [
        {
          "output_type": "stream",
          "name": "stdout",
          "text": [
            "Enter the input : 23456\n",
            "23456\n"
          ]
        }
      ]
    },
    {
      "cell_type": "code",
      "source": [
        "# List of strings\n",
        "l = ['sat', 'bat', 'cat', 'mat']\n",
        "\n",
        "# map() can listify the list of strings individually\n",
        "test = list(map(list, l))\n",
        "print(test)"
      ],
      "metadata": {
        "colab": {
          "base_uri": "https://localhost:8080/"
        },
        "id": "cXWA5yHUxnSQ",
        "outputId": "ba463a81-e3c4-4c66-a63b-57f15011ab84"
      },
      "execution_count": 20,
      "outputs": [
        {
          "output_type": "stream",
          "name": "stdout",
          "text": [
            "[['s', 'a', 't'], ['b', 'a', 't'], ['c', 'a', 't'], ['m', 'a', 't']]\n"
          ]
        }
      ]
    },
    {
      "cell_type": "code",
      "source": [
        "#The filter(): Returns an iterator where the items are filtered through a function to test if the item is accepted or not.\n",
        "seq = [0, 1, 2, 3, 5, 8, 13]\n",
        "\n",
        "# result contains odd numbers of the list\n",
        "result = filter(lambda x: x % 2 != 0, seq)\n",
        "print(list(result))\n",
        "\n",
        "# result contains even numbers of the list\n",
        "result = filter(lambda x: x % 2 == 0, seq)\n",
        "print(list(result))"
      ],
      "metadata": {
        "colab": {
          "base_uri": "https://localhost:8080/"
        },
        "id": "2AvBF8JDyHz9",
        "outputId": "554ed9a5-0c6a-448d-d56c-e4b79cb64b64"
      },
      "execution_count": 21,
      "outputs": [
        {
          "output_type": "stream",
          "name": "stdout",
          "text": [
            "[1, 3, 5, 13]\n",
            "[0, 2, 8]\n"
          ]
        }
      ]
    },
    {
      "cell_type": "code",
      "source": [
        "#The next() function returns the next item in an iterator.\n",
        "mylist = iter([\"apple\", \"banana\", \"cherry\"])\n",
        "x = next(mylist)\n",
        "print(x)\n",
        "x = next(mylist)\n",
        "print(x)\n",
        "x = next(mylist)\n",
        "print(x)"
      ],
      "metadata": {
        "colab": {
          "base_uri": "https://localhost:8080/"
        },
        "id": "bEy0uR_ayrKu",
        "outputId": "33444d00-dda2-4f9e-bf80-662228005d07"
      },
      "execution_count": 28,
      "outputs": [
        {
          "output_type": "stream",
          "name": "stdout",
          "text": [
            "apple\n",
            "banana\n",
            "cherry\n"
          ]
        }
      ]
    },
    {
      "cell_type": "code",
      "source": [
        "#reduce(function, iterable, initializer=None):\n",
        "#Description: Applies a rolling computation to sequential pairs of values in the iterable, using the function.\n",
        "\n",
        "from functools import reduce\n",
        "numbers = [1, 2, 3, 4, 5]\n",
        "product = reduce(lambda x, y: x * y, numbers)\n",
        "print(product)"
      ],
      "metadata": {
        "colab": {
          "base_uri": "https://localhost:8080/"
        },
        "id": "12SbXMTSVipz",
        "outputId": "d7fe915e-9a43-4c96-a2e9-4421b17a9f05"
      },
      "execution_count": 124,
      "outputs": [
        {
          "output_type": "stream",
          "name": "stdout",
          "text": [
            "120\n"
          ]
        }
      ]
    },
    {
      "cell_type": "markdown",
      "source": [
        "#(2) Write a Python function that sorts a dictionary based on the length of values.\n",
        "\n",
        "Sample:\n",
        "\n",
        "Input: {'lemon':'yellow','apple':'red'}\n",
        "\n",
        "output: {'apple':'red','lemon':'yellow'}"
      ],
      "metadata": {
        "id": "joA64-quz5ap"
      }
    },
    {
      "cell_type": "code",
      "source": [
        "def sort_dict(input_dict):\n",
        "    def value_length(item):\n",
        "        return len(item[1])\n",
        "\n",
        "    sorted_dict = dict(sorted(input_dict.items(), key=value_length))\n",
        "    return sorted_dict\n",
        "\n",
        "input_dict = {'lemon': 'yellow', 'apple': 'red'}\n",
        "sorted_dict = sort_dict(input_dict)\n",
        "print(sorted_dict)"
      ],
      "metadata": {
        "colab": {
          "base_uri": "https://localhost:8080/"
        },
        "id": "WUbvRhRFzAyt",
        "outputId": "be09bc69-da2e-410d-dd73-ed56fbcdeb0f"
      },
      "execution_count": 31,
      "outputs": [
        {
          "output_type": "stream",
          "name": "stdout",
          "text": [
            "{'apple': 'red', 'lemon': 'yellow'}\n"
          ]
        }
      ]
    },
    {
      "cell_type": "markdown",
      "source": [
        "##(3) Develop a Python program that executes the following tasks with a user-provided string:\n",
        "\n",
        "\n"
      ],
      "metadata": {
        "id": "3OZv6Be-1lGg"
      }
    },
    {
      "cell_type": "markdown",
      "source": [
        "###(a). Prompt the user to input the string\n",
        "\n",
        "###(b). Create a dictionary from the string where each key is a unique alphabet character and the corresponding value is the frequency of that character's occurrence in the string."
      ],
      "metadata": {
        "id": "QAEag8YI3jvq"
      }
    },
    {
      "cell_type": "code",
      "source": [
        "str1 = str(input(\"Enter the String : \"))\n",
        "\n",
        "freq = {}\n",
        "for i in str1:\n",
        "    if i in freq:\n",
        "        freq[i] += 1\n",
        "    else:\n",
        "        freq[i] = 1\n",
        "print(\"Count of all characters in \" ,str1 ,\" is :\\n \",freq)"
      ],
      "metadata": {
        "colab": {
          "base_uri": "https://localhost:8080/"
        },
        "id": "SESCLQ-l06V9",
        "outputId": "9aa4c860-20cb-4bde-d90f-07b43d65ee2e"
      },
      "execution_count": 116,
      "outputs": [
        {
          "output_type": "stream",
          "name": "stdout",
          "text": [
            "Enter the String : google\n",
            "Count of all characters in  google  is :\n",
            "  {'g': 2, 'o': 2, 'l': 1, 'e': 1}\n"
          ]
        }
      ]
    },
    {
      "cell_type": "markdown",
      "source": [
        "###(c). Generate a sorted list of tuples from the dictionary based on character frequency (values)."
      ],
      "metadata": {
        "id": "0gkyfYhDL1VC"
      }
    },
    {
      "cell_type": "code",
      "source": [
        "sort_freq = list(sorted(freq.items(), key=lambda x:-(x[1])))\n",
        "print(sort_freq)"
      ],
      "metadata": {
        "colab": {
          "base_uri": "https://localhost:8080/"
        },
        "id": "3mD1f74aMDwu",
        "outputId": "9ddacd5c-84e3-4e0d-e523-c6b92c3656d7"
      },
      "execution_count": 121,
      "outputs": [
        {
          "output_type": "stream",
          "name": "stdout",
          "text": [
            "[('g', 2), ('o', 2), ('l', 1), ('e', 1)]\n"
          ]
        }
      ]
    },
    {
      "cell_type": "markdown",
      "source": [
        "\n",
        "###(d). Generate a sorted list of tuples from the dictionary based on the alphabet characters (keys)."
      ],
      "metadata": {
        "id": "cN5E2HtUMEfE"
      }
    },
    {
      "cell_type": "code",
      "source": [
        "sort_freq = list(sorted(freq.items(), key=lambda x:x[0]))\n",
        "print(sort_freq)"
      ],
      "metadata": {
        "colab": {
          "base_uri": "https://localhost:8080/"
        },
        "id": "8MqXG1fvMJ5b",
        "outputId": "c66ab0c7-dc14-49a7-8d81-220042317e37"
      },
      "execution_count": 126,
      "outputs": [
        {
          "output_type": "stream",
          "name": "stdout",
          "text": [
            "[('e', 1), ('g', 2), ('l', 1), ('o', 2)]\n"
          ]
        }
      ]
    },
    {
      "cell_type": "markdown",
      "source": [
        "###(e). Identify the three most frequently occurring characters. In the event of a frequency tie, prioritize characters in lexicographical order.\n",
        "\n",
        "Your program should showcase proficiency in dictionary operations, sorting mechanisms, and handling of ties in frequency counts. Comment your code to outline the process and decisions made.\n",
        "\n",
        "sample:\n",
        "\n",
        "input = 'GOOGLE'\n",
        "\n",
        "Here, the most repeated characters are G:2, O:2. But, L,E are occurring only a single time which is tied for the third position here, so here we take E as it comes first in the lexicographical order."
      ],
      "metadata": {
        "id": "UDxTFNUkMKRY"
      }
    },
    {
      "cell_type": "code",
      "source": [
        "sort_freq = list(sorted(freq.items(), key=lambda x:(-x[1],x[0])))\n",
        "print(sort_freq[:3])"
      ],
      "metadata": {
        "colab": {
          "base_uri": "https://localhost:8080/"
        },
        "id": "-rUHb3LNSUSe",
        "outputId": "e5dcd3b2-93a2-401c-fe93-2bdeb288a06d"
      },
      "execution_count": 119,
      "outputs": [
        {
          "output_type": "stream",
          "name": "stdout",
          "text": [
            "[('g', 2), ('o', 2), ('e', 1)]\n"
          ]
        }
      ]
    },
    {
      "cell_type": "markdown",
      "source": [
        "###(4). Write a function called lookup_student that takes a dictionary representing student records, where names are keys and roll numbers are values. The function should search for a specified student name and return the corresponding roll number if found; otherwise, it should return \"Not Found\"\n",
        "\n",
        "Example:\n",
        "\n",
        "records = { \"Alice\" : \"AB111\", \"Bob\" : \"EE200\", \"David\" : \"XY333\"}\n",
        "\n",
        "print(lookup_student(records, \"Bob\")) : Should print \"EE200\"\n",
        "\n",
        "print(lookup_student(records, \"John\")) : Should print \"Not Found\""
      ],
      "metadata": {
        "id": "-3MBYZ7X-lt6"
      }
    },
    {
      "cell_type": "code",
      "source": [
        "def lookup_student(records, student_name):\n",
        "    return records.get(student_name, \"Not Found\")\n",
        "\n",
        "records = {\"Alice\": \"AB111\", \"Bob\": \"EE200\", \"David\": \"XY333\"}\n",
        "print(lookup_student(records, \"Bob\"))\n",
        "print(lookup_student(records, \"John\"))"
      ],
      "metadata": {
        "colab": {
          "base_uri": "https://localhost:8080/"
        },
        "id": "I4FjjS-F8RQE",
        "outputId": "83c3e2e9-4cba-4384-c67a-445347752fcf"
      },
      "execution_count": 108,
      "outputs": [
        {
          "output_type": "stream",
          "name": "stdout",
          "text": [
            "EE200\n",
            "Not Found\n"
          ]
        }
      ]
    },
    {
      "cell_type": "markdown",
      "source": [
        "##(5). Given a list of integers, write a Python program to:\n",
        "\n",
        "###(a) Find the frequency of each integer in the list and store the result in a dictionary."
      ],
      "metadata": {
        "id": "I49nTmOwFyG8"
      }
    },
    {
      "cell_type": "code",
      "source": [
        "test_list = [4, 6, 8, 9, 9, 1, 4, 6, 2, 5, 6, 3]\n",
        "print(\"The original list : \" ,test_list)\n",
        "res = {key: test_list.count(key) for key in test_list}\n",
        "print(\"Lists elements Frequency : \" ,res)"
      ],
      "metadata": {
        "colab": {
          "base_uri": "https://localhost:8080/"
        },
        "id": "cAmvHw8u8zPg",
        "outputId": "d7dbbcba-f1be-4543-c587-98cafcfe201c"
      },
      "execution_count": 83,
      "outputs": [
        {
          "output_type": "stream",
          "name": "stdout",
          "text": [
            "The original list :  [4, 6, 8, 9, 9, 1, 4, 6, 2, 5, 6, 3]\n",
            "Lists elements Frequency :  {4: 2, 6: 3, 8: 1, 9: 2, 1: 1, 2: 1, 5: 1, 3: 1}\n"
          ]
        }
      ]
    },
    {
      "cell_type": "markdown",
      "source": [
        "###(b) Print the maximum integer and its frequency."
      ],
      "metadata": {
        "id": "GICOsy2jJOE-"
      }
    },
    {
      "cell_type": "code",
      "source": [
        "print(max(res.keys()),\" : \",res[max(res.keys())])"
      ],
      "metadata": {
        "colab": {
          "base_uri": "https://localhost:8080/"
        },
        "id": "iYkB9p5_Id4H",
        "outputId": "6f8122df-6cad-4b5f-f291-8fb28d6491df"
      },
      "execution_count": 84,
      "outputs": [
        {
          "output_type": "stream",
          "name": "stdout",
          "text": [
            "9  :  2\n"
          ]
        }
      ]
    },
    {
      "cell_type": "markdown",
      "source": [
        "###(c) Remove duplicates from the list and print the new list without changing the order of elements. Do this operation without using the set data type."
      ],
      "metadata": {
        "id": "zhW2ZshkF73T"
      }
    },
    {
      "cell_type": "code",
      "source": [
        "unique_list = []\n",
        "for num in test_list:\n",
        "    if num not in unique_list:\n",
        "        unique_list.append(num)\n",
        "print(\"List without duplicates without using set : \", unique_list)"
      ],
      "metadata": {
        "colab": {
          "base_uri": "https://localhost:8080/"
        },
        "id": "6lVrDwhlFDdt",
        "outputId": "81adbf90-ccc8-4c5c-cc5e-03db33ce4eba"
      },
      "execution_count": 85,
      "outputs": [
        {
          "output_type": "stream",
          "name": "stdout",
          "text": [
            "List without duplicates without using set :  [4, 6, 8, 9, 1, 2, 5, 3]\n"
          ]
        }
      ]
    },
    {
      "cell_type": "markdown",
      "source": [
        "###(d) Remove duplicates from the list and print the new list. Do this operation using the set data type."
      ],
      "metadata": {
        "id": "2PW591sDGFlr"
      }
    },
    {
      "cell_type": "code",
      "source": [
        "print(\"List without duplicates using set : \",list(set(test_list)))"
      ],
      "metadata": {
        "colab": {
          "base_uri": "https://localhost:8080/"
        },
        "id": "8fegQ9BADlXM",
        "outputId": "a66bd571-d4b1-48da-e5cc-6c3b13a65565"
      },
      "execution_count": 86,
      "outputs": [
        {
          "output_type": "stream",
          "name": "stdout",
          "text": [
            "List without duplicates using set :  [1, 2, 3, 4, 5, 6, 8, 9]\n"
          ]
        }
      ]
    }
  ]
}
