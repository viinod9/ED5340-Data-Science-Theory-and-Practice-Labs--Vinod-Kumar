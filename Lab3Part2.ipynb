{
  "nbformat": 4,
  "nbformat_minor": 0,
  "metadata": {
    "colab": {
      "provenance": []
    },
    "kernelspec": {
      "name": "python3",
      "display_name": "Python 3"
    },
    "language_info": {
      "name": "python"
    }
  },
  "cells": [
    {
      "cell_type": "markdown",
      "source": [
        "#6. List comprehension: Given two lists of equal length, list1 contains the integers and list2 contains alphabets. Using list comprehension, WAP"
      ],
      "metadata": {
        "id": "LNC7BR08se_G"
      }
    },
    {
      "cell_type": "markdown",
      "source": [
        "###a) To generate a list containing the squares of elements from list1."
      ],
      "metadata": {
        "id": "i_-_Afc2sqWc"
      }
    },
    {
      "cell_type": "code",
      "execution_count": 5,
      "metadata": {
        "colab": {
          "base_uri": "https://localhost:8080/"
        },
        "id": "nMmchLi-ZhsZ",
        "outputId": "e676f476-390d-43f5-edba-958e4d70bc1b"
      },
      "outputs": [
        {
          "output_type": "stream",
          "name": "stdout",
          "text": [
            "[4, 25, 49, 64, 81, 100, 529]\n"
          ]
        }
      ],
      "source": [
        "list1 = [2 , 5 , 7 , 8 , 9 ,10 , 23]\n",
        "list2 = ['v', 'i', 'n','o','d', 'k', 'm']\n",
        "square = [ele**2 for ele in list1]\n",
        "print(square)"
      ]
    },
    {
      "cell_type": "markdown",
      "source": [
        "###b) To generate a list containing pairwise corresponding elements in the form of tuple."
      ],
      "metadata": {
        "id": "kdXPDSztstzz"
      }
    },
    {
      "cell_type": "code",
      "source": [
        "list1 = [2 , 5 , 7 , 8 , 9 ,10 , 23]\n",
        "list2 = ['v', 'i', 'n','o','d', 'k', 'm']\n",
        "list3 = [ele for ele in zip(list1,list2)]\n",
        "print(list3)"
      ],
      "metadata": {
        "colab": {
          "base_uri": "https://localhost:8080/"
        },
        "id": "ooHVi1bRaS3J",
        "outputId": "23ab0492-f7e2-466d-8e97-e8d743d56a9a"
      },
      "execution_count": null,
      "outputs": [
        {
          "output_type": "stream",
          "name": "stdout",
          "text": [
            "[(2, 'v'), (5, 'i'), (7, 'n'), (8, 'o'), (9, 'd'), (10, 'k'), (23, 'm')]\n"
          ]
        }
      ]
    },
    {
      "cell_type": "markdown",
      "source": [
        "###c) To generate a list containing all possible combinations of elements from the two lists."
      ],
      "metadata": {
        "id": "1UPTJafCsztI"
      }
    },
    {
      "cell_type": "code",
      "source": [
        "list1 = [1 , 2 , 3]\n",
        "list2 = ['a', 'b', 'c']\n",
        "list3 = [(ele1 , ele2) for ele1 in list1 for ele2 in list2]\n",
        "print(list3)"
      ],
      "metadata": {
        "colab": {
          "base_uri": "https://localhost:8080/"
        },
        "id": "x3FX6tCmbI_W",
        "outputId": "cd289967-63a3-4951-9d46-14497ff97153"
      },
      "execution_count": null,
      "outputs": [
        {
          "output_type": "stream",
          "name": "stdout",
          "text": [
            "[(1, 'a'), (1, 'b'), (1, 'c'), (2, 'a'), (2, 'b'), (2, 'c'), (3, 'a'), (3, 'b'), (3, 'c')]\n"
          ]
        }
      ]
    },
    {
      "cell_type": "markdown",
      "source": [
        "###d) To generate a list containing elements of list1 and list2 alternatively."
      ],
      "metadata": {
        "id": "ekYWUWRIs66m"
      }
    },
    {
      "cell_type": "code",
      "source": [
        "list1 = [1 , 2 , 3]\n",
        "list2 = ['a', 'b', 'c']\n",
        "list3 = [ele1 for ele2 in zip(list1, list2) for ele1 in ele2]\n",
        "print(list3)"
      ],
      "metadata": {
        "colab": {
          "base_uri": "https://localhost:8080/"
        },
        "id": "ubA5th4hcCGc",
        "outputId": "a16a292c-7b6a-4161-e849-62b194ea3655"
      },
      "execution_count": null,
      "outputs": [
        {
          "output_type": "stream",
          "name": "stdout",
          "text": [
            "[1, 'a', 2, 'b', 3, 'c']\n"
          ]
        }
      ]
    },
    {
      "cell_type": "markdown",
      "source": [
        "##7. Find out the applicable methods for the list but not tuples. List them out."
      ],
      "metadata": {
        "id": "U5rha-i9hWkS"
      }
    },
    {
      "cell_type": "markdown",
      "source": [
        "\n",
        "\n",
        "\n",
        "### Giving some examples below.\n"
      ],
      "metadata": {
        "id": "GSRoyMJviVt8"
      }
    },
    {
      "cell_type": "code",
      "source": [
        "list1 = [1,2,3,4,5,6,7]\n",
        "tuple1 = (8,9,10,11,12,13,14)\n",
        "list1.append(15)\n",
        "print(list1)\n",
        "tuple1.append(15)\n",
        "print(tuple1)"
      ],
      "metadata": {
        "colab": {
          "base_uri": "https://localhost:8080/",
          "height": 254
        },
        "id": "sdeVazazhgiz",
        "outputId": "1e103ccd-5806-4bc7-f037-602cf2081db4"
      },
      "execution_count": null,
      "outputs": [
        {
          "output_type": "stream",
          "name": "stdout",
          "text": [
            "[1, 2, 3, 4, 5, 6, 7, 15]\n"
          ]
        },
        {
          "output_type": "error",
          "ename": "AttributeError",
          "evalue": "'tuple' object has no attribute 'append'",
          "traceback": [
            "\u001b[0;31m---------------------------------------------------------------------------\u001b[0m",
            "\u001b[0;31mAttributeError\u001b[0m                            Traceback (most recent call last)",
            "\u001b[0;32m<ipython-input-38-6d7152127930>\u001b[0m in \u001b[0;36m<cell line: 5>\u001b[0;34m()\u001b[0m\n\u001b[1;32m      3\u001b[0m \u001b[0mlist1\u001b[0m\u001b[0;34m.\u001b[0m\u001b[0mappend\u001b[0m\u001b[0;34m(\u001b[0m\u001b[0;36m15\u001b[0m\u001b[0;34m)\u001b[0m\u001b[0;34m\u001b[0m\u001b[0;34m\u001b[0m\u001b[0m\n\u001b[1;32m      4\u001b[0m \u001b[0mprint\u001b[0m\u001b[0;34m(\u001b[0m\u001b[0mlist1\u001b[0m\u001b[0;34m)\u001b[0m\u001b[0;34m\u001b[0m\u001b[0;34m\u001b[0m\u001b[0m\n\u001b[0;32m----> 5\u001b[0;31m \u001b[0mtuple1\u001b[0m\u001b[0;34m.\u001b[0m\u001b[0mappend\u001b[0m\u001b[0;34m(\u001b[0m\u001b[0;36m15\u001b[0m\u001b[0;34m)\u001b[0m\u001b[0;34m\u001b[0m\u001b[0;34m\u001b[0m\u001b[0m\n\u001b[0m\u001b[1;32m      6\u001b[0m \u001b[0mprint\u001b[0m\u001b[0;34m(\u001b[0m\u001b[0mtuple1\u001b[0m\u001b[0;34m)\u001b[0m\u001b[0;34m\u001b[0m\u001b[0;34m\u001b[0m\u001b[0m\n",
            "\u001b[0;31mAttributeError\u001b[0m: 'tuple' object has no attribute 'append'"
          ]
        }
      ]
    },
    {
      "cell_type": "code",
      "source": [
        "list1 = [1,2,3,4,5,6,7]\n",
        "tuple1 = (8,9,10,11,12,13,14)\n",
        "list1.extend(tuple1)\n",
        "print(list1)\n",
        "tuple1.extend(tuple1)\n",
        "print(tuple1)"
      ],
      "metadata": {
        "colab": {
          "base_uri": "https://localhost:8080/",
          "height": 254
        },
        "id": "PVtT3LCohxKB",
        "outputId": "b71945e9-2af5-458e-f06e-f0bb756c4d43"
      },
      "execution_count": null,
      "outputs": [
        {
          "output_type": "stream",
          "name": "stdout",
          "text": [
            "[1, 2, 3, 4, 5, 6, 7, 8, 9, 10, 11, 12, 13, 14]\n"
          ]
        },
        {
          "output_type": "error",
          "ename": "AttributeError",
          "evalue": "'tuple' object has no attribute 'extend'",
          "traceback": [
            "\u001b[0;31m---------------------------------------------------------------------------\u001b[0m",
            "\u001b[0;31mAttributeError\u001b[0m                            Traceback (most recent call last)",
            "\u001b[0;32m<ipython-input-41-e7e6f5dc5bed>\u001b[0m in \u001b[0;36m<cell line: 5>\u001b[0;34m()\u001b[0m\n\u001b[1;32m      3\u001b[0m \u001b[0mlist1\u001b[0m\u001b[0;34m.\u001b[0m\u001b[0mextend\u001b[0m\u001b[0;34m(\u001b[0m\u001b[0mtuple1\u001b[0m\u001b[0;34m)\u001b[0m\u001b[0;34m\u001b[0m\u001b[0;34m\u001b[0m\u001b[0m\n\u001b[1;32m      4\u001b[0m \u001b[0mprint\u001b[0m\u001b[0;34m(\u001b[0m\u001b[0mlist1\u001b[0m\u001b[0;34m)\u001b[0m\u001b[0;34m\u001b[0m\u001b[0;34m\u001b[0m\u001b[0m\n\u001b[0;32m----> 5\u001b[0;31m \u001b[0mtuple1\u001b[0m\u001b[0;34m.\u001b[0m\u001b[0mextend\u001b[0m\u001b[0;34m(\u001b[0m\u001b[0mtuple1\u001b[0m\u001b[0;34m)\u001b[0m\u001b[0;34m\u001b[0m\u001b[0;34m\u001b[0m\u001b[0m\n\u001b[0m\u001b[1;32m      6\u001b[0m \u001b[0mprint\u001b[0m\u001b[0;34m(\u001b[0m\u001b[0mtuple1\u001b[0m\u001b[0;34m)\u001b[0m\u001b[0;34m\u001b[0m\u001b[0;34m\u001b[0m\u001b[0m\n",
            "\u001b[0;31mAttributeError\u001b[0m: 'tuple' object has no attribute 'extend'"
          ]
        }
      ]
    },
    {
      "cell_type": "markdown",
      "source": [
        "##8. Write a code snippet in Python that takes a string as input and returns a tuple of tuples. Each inner tuple should contain a character from the input string and its corresponding ASCII value."
      ],
      "metadata": {
        "id": "igclov96lT96"
      }
    },
    {
      "cell_type": "code",
      "source": [
        "string = \"Vinod Kumar\"\n",
        "ascii_tuples = tuple((char, ord(char)) for char in string)\n",
        "print(ascii_tuples)"
      ],
      "metadata": {
        "colab": {
          "base_uri": "https://localhost:8080/"
        },
        "id": "Y2MT4dEojSm1",
        "outputId": "e3a00943-af1b-4b5b-8b75-c2c5ed43db42"
      },
      "execution_count": 7,
      "outputs": [
        {
          "output_type": "stream",
          "name": "stdout",
          "text": [
            "(('V', 86), ('i', 105), ('n', 110), ('o', 111), ('d', 100), (' ', 32), ('K', 75), ('u', 117), ('m', 109), ('a', 97), ('r', 114))\n"
          ]
        }
      ]
    },
    {
      "cell_type": "markdown",
      "source": [
        "##9. Create a program that takes a list of tuples containing student name and roll number and returns a new list of tuples containing only those tuples whose first element is a vowel (a, e, i, o, u, A, E, I, O, U)."
      ],
      "metadata": {
        "id": "AYQ5qxmIldOK"
      }
    },
    {
      "cell_type": "code",
      "source": [
        "name_roll = [('Vinod', 26), ('Prabhat', 17), ('Aman', 16)]\n",
        "vowels = ['a', 'e', 'i', 'o', 'u', 'A', 'E', 'I', 'O', 'U']\n",
        "output = [tup for tup in name_roll if tup[0][0] in vowels]\n",
        "print(output)"
      ],
      "metadata": {
        "colab": {
          "base_uri": "https://localhost:8080/"
        },
        "id": "OkFhEyQKkxkT",
        "outputId": "1da80b97-b062-47ec-9497-60d67a65d03d"
      },
      "execution_count": 6,
      "outputs": [
        {
          "output_type": "stream",
          "name": "stdout",
          "text": [
            "[('Aman', 16)]\n"
          ]
        }
      ]
    },
    {
      "cell_type": "markdown",
      "source": [
        "##10.  Create a set of all numbers between 1 and 20 that are either divisible by 3 or 5, using set comprehension."
      ],
      "metadata": {
        "id": "ZiKgeU0Nrz5b"
      }
    },
    {
      "cell_type": "code",
      "source": [
        "set1 = {num for num in range(1,21) if num%3==0 or num%5==0}\n",
        "print(set1)"
      ],
      "metadata": {
        "colab": {
          "base_uri": "https://localhost:8080/"
        },
        "id": "tq1yps6br4g_",
        "outputId": "0741554b-97ee-44e1-d3d1-30a330e1e182"
      },
      "execution_count": 3,
      "outputs": [
        {
          "output_type": "stream",
          "name": "stdout",
          "text": [
            "{3, 5, 6, 9, 10, 12, 15, 18, 20}\n"
          ]
        }
      ]
    }
  ]
}
