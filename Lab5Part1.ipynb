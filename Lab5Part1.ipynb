{
  "nbformat": 4,
  "nbformat_minor": 0,
  "metadata": {
    "colab": {
      "provenance": []
    },
    "kernelspec": {
      "name": "python3",
      "display_name": "Python 3"
    },
    "language_info": {
      "name": "python"
    }
  },
  "cells": [
    {
      "cell_type": "markdown",
      "source": [
        "##(1). Write a program(WAP) using loops and recursion:\n",
        "\n",
        "###a) Factorial of n where n is a non negative integer.\n",
        "\n"
      ],
      "metadata": {
        "id": "MUonVNLOyPRJ"
      }
    },
    {
      "cell_type": "code",
      "source": [
        "def factorial_loop(n):\n",
        "    factorial = 1\n",
        "    if n < 0:\n",
        "        return \"Factorial is not defined for negative numbers.\"\n",
        "    elif n == 0:\n",
        "        return 1\n",
        "    else:\n",
        "        for i in range(1, n + 1):\n",
        "            factorial = factorial*i\n",
        "        return factorial\n",
        "n = int(input(\"Enter the positive number : \"))\n",
        "fact = factorial_loop(n)\n",
        "print(f\"Factorial of {n} using loop: {fact}\")"
      ],
      "metadata": {
        "colab": {
          "base_uri": "https://localhost:8080/"
        },
        "id": "1j2F2hswybMd",
        "outputId": "201b16d1-f5c6-4fcd-ddfc-6cd09cf7dea3"
      },
      "execution_count": 1,
      "outputs": [
        {
          "output_type": "stream",
          "name": "stdout",
          "text": [
            "Enter the positive number : 4\n",
            "Factorial of 4 using loop: 24\n"
          ]
        }
      ]
    },
    {
      "cell_type": "code",
      "source": [
        "def factorial_recursive(n):\n",
        "    if n < 0:\n",
        "        return \"Factorial is not defined for negative numbers.\"\n",
        "    elif n == 0:\n",
        "        return 1\n",
        "    else:\n",
        "        return n * factorial_recursive(n - 1)\n",
        "\n",
        "n = int(input(\"Enter a positive number : \"))\n",
        "facto = factorial_recursive(n)\n",
        "print(f\"Factorial of {n} using recursion: {facto}\")"
      ],
      "metadata": {
        "colab": {
          "base_uri": "https://localhost:8080/"
        },
        "id": "vDzyIRUcycRc",
        "outputId": "c08b25b7-8f29-40d8-a7c2-daefc9f7488c"
      },
      "execution_count": 2,
      "outputs": [
        {
          "output_type": "stream",
          "name": "stdout",
          "text": [
            "Enter a positive number : 4\n",
            "Factorial of 4 using recursion: 24\n"
          ]
        }
      ]
    },
    {
      "cell_type": "markdown",
      "source": [
        "###b) For calculating the Nth Fibonacci number.\n",
        "\n"
      ],
      "metadata": {
        "id": "Le1uF-IcyW-7"
      }
    },
    {
      "cell_type": "code",
      "source": [
        "def fabonacci_loop(n):\n",
        "  n1, n2 = 0, 1\n",
        "  if n == 1:\n",
        "    return n1\n",
        "  else:\n",
        "    for i in range(2, n):\n",
        "     n3 = n1 + n2\n",
        "     n1 = n2\n",
        "     n2 = n3\n",
        "    return n3\n",
        "\n",
        "num = int(input(\"Enter the positive number : \"))\n",
        "fab = fabonacci_loop(num)\n",
        "print(fab)"
      ],
      "metadata": {
        "colab": {
          "base_uri": "https://localhost:8080/"
        },
        "id": "o3vulwiv2fQu",
        "outputId": "ab31b656-e6c3-42fd-e013-906cbead6e36"
      },
      "execution_count": 16,
      "outputs": [
        {
          "output_type": "stream",
          "name": "stdout",
          "text": [
            "Enter the positive number : 8\n",
            "13\n"
          ]
        }
      ]
    },
    {
      "cell_type": "code",
      "source": [
        "def fabonacci_recursion(n):\n",
        "  n1, n2 = 0, 1\n",
        "  if n == 1:\n",
        "    return n1\n",
        "  if n == 2:\n",
        "    return n2\n",
        "  else:\n",
        "    return fabonacci_recursion(n-1)+ fabonacci_recursion(n-2)\n",
        "\n",
        "num = int(input(\"Enter the positive number : \"))\n",
        "fabo = fabonacci_recursion(num)\n",
        "print(fabo)"
      ],
      "metadata": {
        "colab": {
          "base_uri": "https://localhost:8080/"
        },
        "id": "yyePqEM99BIZ",
        "outputId": "696606b6-ef6b-4c25-8fba-f25c2408b6ab"
      },
      "execution_count": 15,
      "outputs": [
        {
          "output_type": "stream",
          "name": "stdout",
          "text": [
            "Enter the positive number : 8\n",
            "13\n"
          ]
        }
      ]
    },
    {
      "cell_type": "markdown",
      "source": [
        "###c) To calculate a^b where a>0, b>=0."
      ],
      "metadata": {
        "id": "tizzWAEiyZjn"
      }
    },
    {
      "cell_type": "code",
      "execution_count": 18,
      "metadata": {
        "colab": {
          "base_uri": "https://localhost:8080/"
        },
        "id": "kvMNwKWDyH-Y",
        "outputId": "65d363db-e8e7-44e5-afdb-c94266b11913"
      },
      "outputs": [
        {
          "output_type": "stream",
          "name": "stdout",
          "text": [
            "For getting a^b : Enter the number a 3\n",
            "For getting a^b : Enter the number b 5\n",
            "243\n"
          ]
        }
      ],
      "source": [
        "def power_loop(a, b):\n",
        "    result = 1\n",
        "    for _ in range(b):\n",
        "        result *= a\n",
        "    return result\n",
        "a = int(input(\"For getting a^b : Enter the number a \"))\n",
        "b = int(input(\"For getting a^b : Enter the number b \"))\n",
        "print(power_loop(a, b))"
      ]
    },
    {
      "cell_type": "code",
      "source": [
        "def power_recursion(a, b):\n",
        "    if b ==0:\n",
        "      return 1\n",
        "    else:\n",
        "      return a*power_recursion(a, b-1)\n",
        "a = int(input(\"For getting a^b : Enter the number a \"))\n",
        "b = int(input(\"For getting a^b : Enter the number b \"))\n",
        "print(power_recursion(a, b))"
      ],
      "metadata": {
        "colab": {
          "base_uri": "https://localhost:8080/"
        },
        "id": "L6sGikZf_-aX",
        "outputId": "60cfc872-6580-44fa-dd18-7e9250832988"
      },
      "execution_count": 19,
      "outputs": [
        {
          "output_type": "stream",
          "name": "stdout",
          "text": [
            "For getting a^b : Enter the number a 3\n",
            "For getting a^b : Enter the number b 5\n",
            "243\n"
          ]
        }
      ]
    },
    {
      "cell_type": "markdown",
      "source": [
        "##(2). Query for 2 integers N and M from the user where 0<=N<=100 and 0<=M<=9. These will be the inputs to your function. Using recursion, compute the number of times the integer M occurs in all non-negative integers less than or equal to N.\n",
        "\n",
        "example: For N=13 and M=1, count=6 (numbers 1,10,11,12,13).\n",
        "\n"
      ],
      "metadata": {
        "id": "ObLrwJlKyd4l"
      }
    },
    {
      "cell_type": "code",
      "source": [
        "def countnumber(N, M):\n",
        "    if N < M:\n",
        "        return 0\n",
        "\n",
        "    N_str = str(N)\n",
        "    count = N_str.count(str(M))\n",
        "    count += countnumber(N - 1, M)\n",
        "    return count\n",
        "\n",
        "while True:\n",
        "    N = int(input(\"Enter integer N (0 <= N <= 100): \"))\n",
        "    if 0 <= N <= 100:\n",
        "        break\n",
        "    else:\n",
        "        print(\"Invalid input! \")\n",
        "\n",
        "while True:\n",
        "    M = int(input(\"Enter integer M (0 <= M <= 9): \"))\n",
        "    if 0 <= M <= 9:\n",
        "        break\n",
        "    else:\n",
        "        print(\"Invalid input! \")\n",
        "\n",
        "result = countnumber(N, M)\n",
        "print(f\"{M} occurs {result} times in all non-negative integers less than {N}.\")"
      ],
      "metadata": {
        "colab": {
          "base_uri": "https://localhost:8080/"
        },
        "id": "2U7e7nvQDxN2",
        "outputId": "245c1a53-3fab-4385-8b1d-92a5effadeb0"
      },
      "execution_count": 35,
      "outputs": [
        {
          "output_type": "stream",
          "name": "stdout",
          "text": [
            "Enter integer N (0 <= N <= 100): 97\n",
            "Enter integer M (0 <= M <= 9): 7\n",
            "7 occurs 20 times in all non-negative integers less than 97.\n"
          ]
        }
      ]
    },
    {
      "cell_type": "markdown",
      "source": [
        "##3. Programs using lambda function.\n",
        "\n",
        "###a) Given a list of names, use map to create a list where each name is prefixed with \"Hello, \".\n",
        "\n",
        "    Example Input: ['Alice', 'Bob', 'Charlie']\n",
        "    Example Output: ['Hello, Alice', 'Hello, Bob', 'Hello, Charlie']7"
      ],
      "metadata": {
        "id": "WM1Pv1Xlylg3"
      }
    },
    {
      "cell_type": "code",
      "source": [
        "names = ['Alice', 'Bob', 'Charlie']\n",
        "greeted_names = list(map(lambda name: f'Hello, {name}', names))\n",
        "print(greeted_names)"
      ],
      "metadata": {
        "colab": {
          "base_uri": "https://localhost:8080/"
        },
        "id": "HDI9cPJIFUHf",
        "outputId": "3d93237b-53de-4064-d54d-bd4c20da507b"
      },
      "execution_count": 30,
      "outputs": [
        {
          "output_type": "stream",
          "name": "stdout",
          "text": [
            "['Hello, Alice', 'Hello, Bob', 'Hello, Charlie']\n"
          ]
        }
      ]
    },
    {
      "cell_type": "markdown",
      "source": [
        "###b) Use filter and a lambda function to extract all even numbers from a given list.\n",
        "\n",
        "    Example Input: [1, 2, 3, 4, 5, 6]\n",
        "    Example Output: [2, 4, 6]\n",
        "\n"
      ],
      "metadata": {
        "id": "WJJ-QA_5ysV5"
      }
    },
    {
      "cell_type": "code",
      "source": [
        "num = [1, 2, 3, 4, 5, 6, 7, 8, 9, 10]\n",
        "even_num = list(filter(lambda x: x % 2 == 0, num))\n",
        "print(even_num)"
      ],
      "metadata": {
        "colab": {
          "base_uri": "https://localhost:8080/"
        },
        "id": "3-pkr7r9yvoh",
        "outputId": "2ba60c64-8d16-4592-b3cf-2ee7f77bd83e"
      },
      "execution_count": 32,
      "outputs": [
        {
          "output_type": "stream",
          "name": "stdout",
          "text": [
            "[2, 4, 6, 8, 10]\n"
          ]
        }
      ]
    },
    {
      "cell_type": "markdown",
      "source": [
        "###c) Use reduce and lambda to concatenate all strings in a given list.\n",
        "\n",
        "    Example Input: ['Python', 'is', 'awesome']\n",
        "    Example Output: 'Pythonisawesome'"
      ],
      "metadata": {
        "id": "Y4K6t6DEyv47"
      }
    },
    {
      "cell_type": "code",
      "source": [
        "from functools import reduce\n",
        "\n",
        "strings = ['Hello', 'world', '!', 'This', 'is', 'a', 'concatenation', 'example']\n",
        "concatenated_string = reduce(lambda x, y: x + y, strings)\n",
        "print(concatenated_string)"
      ],
      "metadata": {
        "colab": {
          "base_uri": "https://localhost:8080/"
        },
        "id": "g2A5KqXly0NO",
        "outputId": "537277b2-696b-46a6-bc14-828a89704a17"
      },
      "execution_count": 33,
      "outputs": [
        {
          "output_type": "stream",
          "name": "stdout",
          "text": [
            "Helloworld!Thisisaconcatenationexample\n"
          ]
        }
      ]
    },
    {
      "cell_type": "markdown",
      "source": [
        "##4.  Define a class Complex that defines a complex number with attributes real and imaginary (as we did in the class).\n",
        "\n",
        "###Define operators for addition, subtraction, multiplication and division (should work for ‘/’ and ‘//’) (Do with both operator overloading as well as without overloading). While printing the output, print in the form of complex number form like ( a + ib)  - 10 marks ( 1 mark each for each of the operations with and without operator overloading)"
      ],
      "metadata": {
        "id": "gUfhH0nVy0Zu"
      }
    },
    {
      "cell_type": "code",
      "source": [
        "class Complex:\n",
        "    def __init__(self, r, i):  # r: real part, i: imaginary part\n",
        "        self.r = r\n",
        "        self.i = i\n",
        "\n",
        "    # With Operator Overloading\n",
        "    def __add__(self, o):  # o: other complex number\n",
        "        return Complex(self.r + o.r, self.i + o.i)\n",
        "\n",
        "    def __sub__(self, o):\n",
        "        return Complex(self.r - o.r, self.i - o.i)\n",
        "\n",
        "    def __mul__(self, o):\n",
        "        r = self.r * o.r - self.i * o.i  # r: real part\n",
        "        i = self.r * o.i + self.i * o.r  # i: imaginary part\n",
        "        return Complex(r, i)\n",
        "\n",
        "    def __truediv__(self, o):\n",
        "        d = o.r ** 2 + o.i ** 2  # d: denominator\n",
        "        r = (self.r * o.r + self.i * o.i) / d  # r: real part\n",
        "        i = (self.i * o.r - self.r * o.i) / d  # i: imaginary part\n",
        "        return Complex(r, i)\n",
        "\n",
        "    # Without Operator Overloading\n",
        "    def add(self, o):\n",
        "        return Complex(self.r + o.r, self.i + o.i)\n",
        "\n",
        "    def subtract(self, o):\n",
        "        return Complex(self.r - o.r, self.i - o.i)\n",
        "\n",
        "    def multiply(self, o):\n",
        "        r = self.r * o.r - self.i * o.i  # r: real part\n",
        "        i = self.r * o.i + self.i * o.r  # i: imaginary part\n",
        "        return Complex(r, i)\n",
        "\n",
        "    def divide(self, o):\n",
        "        d = o.r ** 2 + o.i ** 2  # d: denominator\n",
        "        r = (self.r * o.r + self.i * o.i) / d  # r: real part\n",
        "        i = (self.i * o.r - self.r * o.i) / d  # i: imaginary part\n",
        "        return Complex(r, i)\n",
        "\n",
        "    def __str__(self):\n",
        "        return f'({self.r} + i{self.i})' if self.i >= 0 else f'({self.r} - i{-self.i})'\n",
        "        #\n",
        "\n",
        "\n",
        "# Example usage with operator overloading\n",
        "a = Complex(3, 4)\n",
        "b = Complex(2, 6)\n",
        "\n",
        "print(\"With Operator Overloading:\")\n",
        "print(\"Addition:\", a + b)\n",
        "print(\"Subtraction:\", a - b)\n",
        "print(\"Multiplication:\", a * b)\n",
        "print(\"Division:\", a / b)\n",
        "\n",
        "# Example usage without operator overloading\n",
        "print(\"\\nWithout Operator Overloading:\")\n",
        "print(\"Addition:\", a.add(b))\n",
        "print(\"Subtraction:\", a.subtract(b))\n",
        "print(\"Multiplication:\", a.multiply(b))\n",
        "print(\"Division:\", a.divide(b))"
      ],
      "metadata": {
        "colab": {
          "base_uri": "https://localhost:8080/"
        },
        "id": "pAjKjJexGuC_",
        "outputId": "fd082bf6-1ab9-4d55-a5ae-e2b7351f910a"
      },
      "execution_count": 48,
      "outputs": [
        {
          "output_type": "stream",
          "name": "stdout",
          "text": [
            "With Operator Overloading:\n",
            "Addition: (5 + i10)\n",
            "Subtraction: (1 - i2)\n",
            "Multiplication: (-18 + i26)\n",
            "Division: (0.75 - i0.25)\n",
            "\n",
            "Without Operator Overloading:\n",
            "Addition: (5 + i10)\n",
            "Subtraction: (1 - i2)\n",
            "Multiplication: (-18 + i26)\n",
            "Division: (0.75 - i0.25)\n"
          ]
        }
      ]
    }
  ]
}
