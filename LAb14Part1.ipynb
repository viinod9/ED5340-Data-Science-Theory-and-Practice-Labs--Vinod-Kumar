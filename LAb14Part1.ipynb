{
  "nbformat": 4,
  "nbformat_minor": 0,
  "metadata": {
    "colab": {
      "provenance": []
    },
    "kernelspec": {
      "name": "python3",
      "display_name": "Python 3"
    },
    "language_info": {
      "name": "python"
    }
  },
  "cells": [
    {
      "cell_type": "markdown",
      "source": [
        "#Implement the forward propagation for a two hidden layer network for m-samples, n-features as we discussed in class. Initialize the weights randomly. Use the data from the previous labs like logistic regression. You can choose the number of neurons in the hidden layer and use sigmoid activation function.Report the evaluation metrics for the network.  Also use other non-linear activation functions like ReLU and Tanh. Report the loss using both MSE and Cross Entropy."
      ],
      "metadata": {
        "id": "aMRgFKJEIHiJ"
      }
    },
    {
      "cell_type": "code",
      "source": [
        "import numpy as np\n",
        "import pandas as pd\n",
        "\n",
        "# Activation functions\n",
        "def sigmoid(z):\n",
        "    return 1 / (1 + np.exp(-z))\n",
        "\n",
        "def relu(z):\n",
        "    return np.maximum(0, z)\n",
        "\n",
        "def tanh(z):\n",
        "    return np.tanh(z)\n",
        "\n",
        "# Initialize parameters\n",
        "def initialize_parameters(input_size, hidden_size1, hidden_size2):\n",
        "    W1 = np.random.randn(hidden_size1, input_size)\n",
        "    b1 = np.zeros((hidden_size1, 1))\n",
        "    W2 = np.random.randn(hidden_size2, hidden_size1)\n",
        "    b2 = np.zeros((hidden_size2, 1))\n",
        "    W3 = np.random.randn(1, hidden_size2)\n",
        "    b3 = np.zeros((1, 1))\n",
        "\n",
        "    return [W1, b1, W2, b2, W3, b3]\n",
        "\n",
        "# Forward propagation\n",
        "def forward_propagation(X, parameters, activation=\"sigmoid\"):\n",
        "    W1, b1, W2, b2, W3, b3 = parameters\n",
        "\n",
        "    if activation == \"sigmoid\":\n",
        "        activation_func = sigmoid\n",
        "    elif activation == \"relu\":\n",
        "        activation_func = relu\n",
        "    elif activation == \"tanh\":\n",
        "        activation_func = tanh\n",
        "\n",
        "    Z1 = np.dot(W1, X) + b1\n",
        "    A1 = activation_func(Z1)\n",
        "\n",
        "    Z2 = np.dot(W2, A1) + b2\n",
        "    A2 = activation_func(Z2)\n",
        "\n",
        "    Z3 = np.dot(W3, A2) + b3\n",
        "    A3 = sigmoid(Z3)\n",
        "\n",
        "    return A3\n",
        "\n",
        "# Mean Squared Error loss\n",
        "def mean_squared_error_loss(predictions, Y):\n",
        "    m = Y.shape[1]\n",
        "    loss = (np.sum(np.square(predictions - Y)))/m\n",
        "    return loss\n",
        "\n",
        "# Binary Cross-Entropy loss\n",
        "def binary_cross_entropy_loss(predictions, Y):\n",
        "    m = Y.shape[1]\n",
        "    loss = -(np.sum(Y*np.log(predictions) + (1-Y)*np.log(1-predictions)))/m\n",
        "    return loss\n",
        "\n",
        "# Calculate evaluation metrics manually\n",
        "def calculate_evaluation_metrics(predictions, Y):\n",
        "    binary_predictions = (predictions > 0.5).astype(int)\n",
        "\n",
        "    # Accuracy\n",
        "    accuracy = np.mean(binary_predictions == Y)\n",
        "\n",
        "    # Precision\n",
        "    true_positives = np.sum((binary_predictions == 1) & (Y == 1))\n",
        "    false_positives = np.sum((binary_predictions == 1) & (Y == 0))\n",
        "    precision = true_positives / (true_positives + false_positives + 1e-8)\n",
        "\n",
        "    # Recall\n",
        "    false_negatives = np.sum((binary_predictions == 0) & (Y == 1))\n",
        "    recall = true_positives / (true_positives + false_negatives + 1e-8)\n",
        "\n",
        "    # F1-score\n",
        "    f1 = 2 * (precision * recall) / (precision + recall + 1e-8)\n",
        "\n",
        "    return accuracy, precision, recall, f1"
      ],
      "metadata": {
        "id": "KvMKtojQbyZD"
      },
      "execution_count": null,
      "outputs": []
    },
    {
      "cell_type": "code",
      "source": [
        "# Load data from CSV\n",
        "data = pd.read_csv(\"Logistic.csv\")\n",
        "\n",
        "print(data.head())"
      ],
      "metadata": {
        "colab": {
          "base_uri": "https://localhost:8080/"
        },
        "id": "B608ueHqkAVD",
        "outputId": "18dff681-a6b6-458a-c3c0-9363eed17ed8"
      },
      "execution_count": null,
      "outputs": [
        {
          "output_type": "stream",
          "name": "stdout",
          "text": [
            "      x1     x2  label\n",
            "0  7.395  7.638      1\n",
            "1  4.987  6.485      1\n",
            "2  5.358  6.499      1\n",
            "3  2.036  2.380      0\n",
            "4  5.956  7.378      1\n"
          ]
        }
      ]
    },
    {
      "cell_type": "code",
      "source": [
        "X = data.iloc[:, :-1].values.T\n",
        "Y = data.iloc[:, -1].values.reshape(1, -1)\n",
        "\n",
        "# Define dimensions\n",
        "input_size = X.shape[0]\n",
        "print('Size of Input is : ',input_size)"
      ],
      "metadata": {
        "colab": {
          "base_uri": "https://localhost:8080/"
        },
        "id": "Hw9FYmDWkEr3",
        "outputId": "08c35182-a33e-4900-ce80-415396365f75"
      },
      "execution_count": null,
      "outputs": [
        {
          "output_type": "stream",
          "name": "stdout",
          "text": [
            "Size of Input is :  2\n"
          ]
        }
      ]
    },
    {
      "cell_type": "code",
      "source": [
        "hidden_size1 = 10\n",
        "hidden_size2 = 5\n",
        "\n",
        "# Initialize parameters\n",
        "parameters = initialize_parameters(input_size, hidden_size1, hidden_size2)\n",
        "print('Initialize parameter ',parameters)"
      ],
      "metadata": {
        "colab": {
          "base_uri": "https://localhost:8080/"
        },
        "id": "Qn58wxmdlWyu",
        "outputId": "45977177-2e99-4b9b-ebd6-156ba0752d5b"
      },
      "execution_count": null,
      "outputs": [
        {
          "output_type": "stream",
          "name": "stdout",
          "text": [
            "Initialize parameter  [array([[-0.40820574,  0.70491906],\n",
            "       [ 0.48785745, -0.53977858],\n",
            "       [-0.65947104,  0.09717527],\n",
            "       [ 0.50317993,  0.45074628],\n",
            "       [-0.47984111,  1.37959025],\n",
            "       [-0.65177735, -0.30337312],\n",
            "       [-0.00422744, -1.50337496],\n",
            "       [ 0.70137047, -0.82641362],\n",
            "       [-0.24274283, -0.41051539],\n",
            "       [-0.46437722,  0.27452858]]), array([[0.],\n",
            "       [0.],\n",
            "       [0.],\n",
            "       [0.],\n",
            "       [0.],\n",
            "       [0.],\n",
            "       [0.],\n",
            "       [0.],\n",
            "       [0.],\n",
            "       [0.]]), array([[-0.73416282,  0.83796296, -1.34237166,  1.25890662, -0.02738748,\n",
            "        -0.4132343 ,  1.01278396, -1.3038664 ,  2.23784703,  0.10048798],\n",
            "       [-1.15452542, -0.05711255,  0.34568691, -2.33160213, -0.10260812,\n",
            "         0.11724592,  0.45008311, -1.85229974, -1.18959215,  1.64373517],\n",
            "       [-0.01418161, -1.25277732, -0.69882877,  1.42433508,  1.22543318,\n",
            "        -1.32517183, -0.07089188, -0.0643362 ,  0.27097293,  1.33212308],\n",
            "       [ 0.5214127 , -1.00288906,  1.45510797,  0.2995072 , -0.8490539 ,\n",
            "         0.32469394, -0.80682116,  0.24637903,  2.17234077,  0.11884721],\n",
            "       [ 0.61224184,  0.86692113, -0.42911355,  0.02635708, -1.47258779,\n",
            "        -1.20540733,  0.09185433, -0.41700459,  0.82471542, -1.16018037]]), array([[0.],\n",
            "       [0.],\n",
            "       [0.],\n",
            "       [0.],\n",
            "       [0.]]), array([[-0.45651266,  0.15156201, -2.06043424, -1.66846832, -1.57156312]]), array([[0.]])]\n"
          ]
        }
      ]
    },
    {
      "cell_type": "code",
      "source": [
        "# Forward propagation with sigmoid activation\n",
        "predictions_sigmoid = forward_propagation(X, parameters, activation=\"sigmoid\")\n",
        "mse_loss_sigmoid = mean_squared_error_loss(predictions_sigmoid, Y)\n",
        "ce_loss_sigmoid = binary_cross_entropy_loss(predictions_sigmoid, Y)\n",
        "accuracy_sigmoid, precision_sigmoid, recall_sigmoid, f1_sigmoid = calculate_evaluation_metrics(predictions_sigmoid, Y)\n",
        "\n",
        "print(\"Sigmoid Activation:\")\n",
        "print(f\"Accuracy: {accuracy_sigmoid}\")\n",
        "print(f\"Precision: {precision_sigmoid}\")\n",
        "print(f\"Recall: {recall_sigmoid}\")\n",
        "print(f\"F1 Score: {f1_sigmoid}\")\n",
        "\n",
        "print(f\"MSE Loss: {mse_loss_sigmoid}\")\n",
        "print(f\"Cross-Entropy Loss: {ce_loss_sigmoid}\")"
      ],
      "metadata": {
        "colab": {
          "base_uri": "https://localhost:8080/"
        },
        "id": "bVe-Cb_llia_",
        "outputId": "ade07c34-11cc-4201-bbf0-94737bed2b40"
      },
      "execution_count": null,
      "outputs": [
        {
          "output_type": "stream",
          "name": "stdout",
          "text": [
            "Sigmoid Activation:\n",
            "Accuracy: 0.5\n",
            "Precision: 0.0\n",
            "Recall: 0.0\n",
            "F1 Score: 0.0\n",
            "MSE Loss: 0.4650955834836811\n",
            "Cross-Entropy Loss: 1.6792430604693522\n"
          ]
        }
      ]
    },
    {
      "cell_type": "code",
      "source": [
        "# Forward propagation with ReLU activation\n",
        "predictions_relu = forward_propagation(X, parameters, activation=\"relu\")\n",
        "mse_loss_relu = mean_squared_error_loss(predictions_relu, Y)\n",
        "ce_loss_relu = binary_cross_entropy_loss(predictions_relu, Y)\n",
        "accuracy_relu, precision_relu, recall_relu, f1_relu = calculate_evaluation_metrics(predictions_relu, Y)\n",
        "\n",
        "print(\"\\nReLU Activation:\")\n",
        "print(f\"Accuracy: {accuracy_relu}\")\n",
        "print(f\"Precision: {precision_relu}\")\n",
        "print(f\"Recall: {recall_relu}\")\n",
        "print(f\"F1 Score: {f1_relu}\")\n",
        "print(f\"MSE Loss: {mse_loss_relu}\")\n",
        "print(f\"Cross-Entropy Loss: {ce_loss_relu}\")"
      ],
      "metadata": {
        "colab": {
          "base_uri": "https://localhost:8080/"
        },
        "id": "2bjD_e3olz5l",
        "outputId": "74e22ab1-9bcd-4fe4-afcb-d949235d77f1"
      },
      "execution_count": null,
      "outputs": [
        {
          "output_type": "stream",
          "name": "stdout",
          "text": [
            "\n",
            "ReLU Activation:\n",
            "Accuracy: 0.5\n",
            "Precision: 0.0\n",
            "Recall: 0.0\n",
            "F1 Score: 0.0\n",
            "MSE Loss: 0.5023034828586447\n",
            "Cross-Entropy Loss: 16.293663499210982\n"
          ]
        }
      ]
    },
    {
      "cell_type": "code",
      "source": [
        "# Forward propagation with Tanh activation\n",
        "predictions_tanh = forward_propagation(X, parameters, activation=\"tanh\")\n",
        "mse_loss_tanh = mean_squared_error_loss(predictions_tanh, Y)\n",
        "ce_loss_tanh = binary_cross_entropy_loss(predictions_tanh, Y)\n",
        "accuracy_tanh, precision_tanh, recall_tanh, f1_tanh = calculate_evaluation_metrics(predictions_tanh, Y)\n",
        "\n",
        "print(\"\\nTanh Activation:\")\n",
        "print(f\"Accuracy: {accuracy_tanh}\")\n",
        "print(f\"Precision: {precision_tanh}\")\n",
        "print(f\"Recall: {recall_tanh}\")\n",
        "print(f\"F1 Score: {f1_tanh}\")\n",
        "print(f\"MSE Loss: {mse_loss_tanh}\")\n",
        "print(f\"Cross-Entropy Loss: {ce_loss_tanh}\")"
      ],
      "metadata": {
        "colab": {
          "base_uri": "https://localhost:8080/"
        },
        "id": "bonT1RSLnuBl",
        "outputId": "ce912edb-2d62-45e8-b7b4-180d663da936"
      },
      "execution_count": null,
      "outputs": [
        {
          "output_type": "stream",
          "name": "stdout",
          "text": [
            "\n",
            "Tanh Activation:\n",
            "Accuracy: 0.34\n",
            "Precision: 0.12264150942239231\n",
            "Recall: 0.05199999999792\n",
            "F1 Score: 0.07303370367914429\n",
            "MSE Loss: 0.38827659811803994\n",
            "Cross-Entropy Loss: 1.0154342994443555\n"
          ]
        }
      ]
    }
  ]
}
