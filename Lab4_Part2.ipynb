{
  "nbformat": 4,
  "nbformat_minor": 0,
  "metadata": {
    "colab": {
      "provenance": []
    },
    "kernelspec": {
      "name": "python3",
      "display_name": "Python 3"
    },
    "language_info": {
      "name": "python"
    }
  },
  "cells": [
    {
      "cell_type": "markdown",
      "source": [
        "##(6). Store the employee IDs, names, salaries, and years of experience using nested dictionaries (the key of the highest level dictionary can be the employee ID).\n",
        "\n",
        "(a) Sort this dictionary using the salary value.\n",
        "\n",
        "(b) Add a new employee to the dictionary in the correct position (sorted as mentioned above)."
      ],
      "metadata": {
        "id": "qQ5InYWErzsp"
      }
    },
    {
      "cell_type": "code",
      "execution_count": 24,
      "metadata": {
        "colab": {
          "base_uri": "https://localhost:8080/"
        },
        "id": "sjVZsfyjq7pd",
        "outputId": "3beb4e70-ffc7-4265-b884-40738af9cae3"
      },
      "outputs": [
        {
          "output_type": "stream",
          "name": "stdout",
          "text": [
            "Sorted Employees by Salary:\n",
            "Employee ID: 103, Name: Sourav, Salary: 50000, Experience: 7\n",
            "Employee ID: 101, Name: Vinod, Salary: 60000, Experience: 5\n",
            "Employee ID: 102, Name: Suman, Salary: 70000, Experience: 3\n",
            "\n",
            "Sorted Employees after adding a new employee:\n",
            "Employee ID: 103, Name: Sourav, Salary: 50000, Experience: 7\n",
            "Employee ID: 104, Name: Prabhat, Salary: 55000, Experience: 4\n",
            "Employee ID: 101, Name: Vinod, Salary: 60000, Experience: 5\n",
            "Employee ID: 102, Name: Suman, Salary: 70000, Experience: 3\n"
          ]
        }
      ],
      "source": [
        "# Dictionary to store employee information\n",
        "employees = {\n",
        "    101: {\"name\": \"Vinod\", \"salary\": 60000, \"experience\": 5},\n",
        "    102: {\"name\": \"Suman\", \"salary\": 70000, \"experience\": 3},\n",
        "    103: {\"name\": \"Sourav\", \"salary\": 50000, \"experience\": 7}\n",
        "}\n",
        "\n",
        "# Sorting the dictionary by salary\n",
        "sorted_employees = dict(sorted(employees.items(), key=lambda x: x[1][\"salary\"]))\n",
        "\n",
        "# Printing the sorted dictionary\n",
        "print(\"Sorted Employees by Salary:\")\n",
        "for emp_id, emp_info in sorted_employees.items():\n",
        "    print(f\"Employee ID: {emp_id}, Name: {emp_info['name']}, Salary: {emp_info['salary']}, Experience: {emp_info['experience']}\")\n",
        "\n",
        "# Adding a new employee to the sorted dictionary\n",
        "new_employee = {\"name\": \"Prabhat\", \"salary\": 55000, \"experience\": 4}\n",
        "new_employee_id = 104\n",
        "\n",
        "# Inserting the new employee in the correct position based on salary\n",
        "sorted_employees[new_employee_id] = new_employee\n",
        "sorted_employees = dict(sorted(sorted_employees.items(), key=lambda x: x[1][\"salary\"]))\n",
        "\n",
        "# Printing the updated sorted dictionary with the new employee\n",
        "print(\"\\nSorted Employees after adding a new employee:\")\n",
        "for emp_id, emp_info in sorted_employees.items():\n",
        "    print(f\"Employee ID: {emp_id}, Name: {emp_info['name']}, Salary: {emp_info['salary']}, Experience: {emp_info['experience']}\")"
      ]
    },
    {
      "cell_type": "markdown",
      "source": [
        "##(7). You are given two Python dictionaries, A and B, with keys as alphabets and values as random integers. Write a Python function to create a third dictionary C, that combines A and B. For common keys, the value in C should be the sum of values from A and B.\n",
        "\n",
        "For example, if dictionary A is {\"a\": 3, \"b\": 5, \"c\": 7} and dictionary B is {\"b\": 2, \"c\": 4, \"d\": 6}, the function should return a dictionary C that looks like {\"a\": 3, \"b\": 7, \"c\": 11, \"d\": 6}."
      ],
      "metadata": {
        "id": "ts5ip4OSsIod"
      }
    },
    {
      "cell_type": "code",
      "source": [
        "def combine_dictionaries(A, B):\n",
        "    C = {}\n",
        "    for key in set(A.keys()).union(set(B.keys())):\n",
        "        C[key] = A.get(key, 0) + B.get(key, 0)\n",
        "    return C\n",
        "\n",
        "# Example dictionaries A and B\n",
        "A = {\"a\": 3, \"b\": 5, \"c\": 7}\n",
        "B = {\"b\": 2, \"c\": 4, \"d\": 6}\n",
        "\n",
        "# Call the function and print the result\n",
        "C = combine_dictionaries(A, B)\n",
        "print(C)  # Output: {'a': 3, 'b': 7, 'c': 11, 'd': 6}"
      ],
      "metadata": {
        "colab": {
          "base_uri": "https://localhost:8080/"
        },
        "id": "mmWI8vKVrDtq",
        "outputId": "2468e833-ad89-4953-d767-79adaa82c9e2"
      },
      "execution_count": 5,
      "outputs": [
        {
          "output_type": "stream",
          "name": "stdout",
          "text": [
            "{'d': 6, 'b': 7, 'c': 11, 'a': 3}\n"
          ]
        }
      ]
    },
    {
      "cell_type": "markdown",
      "source": [
        "##(8) Assume you have a list of lists, where each inner list contains two elements: a key and a value. Write a Python function that takes the list of lists as input and returns a list of dictionaries, where each dictionary contains a key-value pair from the original input list."
      ],
      "metadata": {
        "id": "p3oFJa3As6MA"
      }
    },
    {
      "cell_type": "code",
      "source": [
        "def ll_to_ld(ll):   # function for change a list of list to list of dictionary\n",
        "    ld = []\n",
        "    for inner_list in ll:\n",
        "        if len(inner_list) == 2:  # Ensure each inner list has exactly two elements\n",
        "            key, value = inner_list\n",
        "            ld.append({key: value})\n",
        "    return ld\n",
        "\n",
        "# Example list of lists\n",
        "ll = [[1, 'a'], [2, 'b'], [3, 'c']]\n",
        "\n",
        "# Call the function and print the result\n",
        "ld = ll_to_ld(ll)\n",
        "print(ld)  # Output: [{1: 'a'}, {2: 'b'}, {3: 'c'}]"
      ],
      "metadata": {
        "colab": {
          "base_uri": "https://localhost:8080/"
        },
        "id": "MJft_FXOsu60",
        "outputId": "5fbb6970-28d6-4ca6-c144-23bb6e7454d4"
      },
      "execution_count": 8,
      "outputs": [
        {
          "output_type": "stream",
          "name": "stdout",
          "text": [
            "[{1: 'a'}, {2: 'b'}, {3: 'c'}]\n"
          ]
        }
      ]
    },
    {
      "cell_type": "markdown",
      "source": [
        "##(9) Illustrate the usage of positional and keyword arguments using suitable examples."
      ],
      "metadata": {
        "id": "MD__yTdVvHeA"
      }
    },
    {
      "cell_type": "code",
      "source": [
        "def greet(name, age):\n",
        "    print(f\"Hello, {name}! I am {age} years old.\")\n",
        "\n",
        "# Using positional arguments\n",
        "greet(\"Sourav\", 26)"
      ],
      "metadata": {
        "colab": {
          "base_uri": "https://localhost:8080/"
        },
        "id": "BfiWteyFtGq_",
        "outputId": "dc653c57-f683-49f7-b075-7499fca7c101"
      },
      "execution_count": 12,
      "outputs": [
        {
          "output_type": "stream",
          "name": "stdout",
          "text": [
            "Hello, Sourav! I am 26 years old.\n"
          ]
        }
      ]
    },
    {
      "cell_type": "code",
      "source": [
        "# Using keyword arguments\n",
        "greet(age=26, name=\"Sourav\")"
      ],
      "metadata": {
        "colab": {
          "base_uri": "https://localhost:8080/"
        },
        "id": "KVvz1EfmvQYB",
        "outputId": "8cf2d925-7ab8-4296-df26-181f774e6923"
      },
      "execution_count": 15,
      "outputs": [
        {
          "output_type": "stream",
          "name": "stdout",
          "text": [
            "Hello, Sourav! I am 26 years old.\n"
          ]
        }
      ]
    },
    {
      "cell_type": "code",
      "source": [
        "# Using a combination of positional and keyword arguments\n",
        "greet(\"Sourav\", age=26)"
      ],
      "metadata": {
        "colab": {
          "base_uri": "https://localhost:8080/"
        },
        "id": "VYNcqOyFv1CH",
        "outputId": "127d2c44-2df4-434f-b03d-064722e1cfbe"
      },
      "execution_count": 16,
      "outputs": [
        {
          "output_type": "stream",
          "name": "stdout",
          "text": [
            "Hello, Sourav! I am 26 years old.\n"
          ]
        }
      ]
    },
    {
      "cell_type": "markdown",
      "source": [
        "##(10). Write a function to find the maximum of n numbers using variable length positional arguments."
      ],
      "metadata": {
        "id": "YnGU9LzJwOLH"
      }
    },
    {
      "cell_type": "code",
      "source": [
        "def find_max(*args):\n",
        "    if not args:\n",
        "        return None  # If no arguments are provided, return None\n",
        "\n",
        "    max_num = args[0]  # Initialize max_num with the first argument\n",
        "\n",
        "    # Loop through the arguments starting from the second one\n",
        "    for num in args[1:]:\n",
        "        if num > max_num:\n",
        "            max_num = num  # Update max_num if a larger number is found\n",
        "\n",
        "    return max_num\n",
        "\n",
        "# Test the function with different numbers of arguments\n",
        "print(find_max(1, 2, 3, 4, 5))\n",
        "print(find_max(-1, -5, -3))\n",
        "print(find_max(10))\n",
        "print(find_max())"
      ],
      "metadata": {
        "colab": {
          "base_uri": "https://localhost:8080/"
        },
        "id": "hDMZ5HnawH8a",
        "outputId": "6783bc33-4ae8-4868-dd09-cd488fdcc6e8"
      },
      "execution_count": 18,
      "outputs": [
        {
          "output_type": "stream",
          "name": "stdout",
          "text": [
            "5\n",
            "-1\n",
            "10\n",
            "None\n"
          ]
        }
      ]
    },
    {
      "cell_type": "markdown",
      "source": [
        "##(11). Write a function to concatenate n strings using variable length keyword arguments."
      ],
      "metadata": {
        "id": "I8k8mB3ixLvU"
      }
    },
    {
      "cell_type": "code",
      "source": [
        "def concatenate_strings(**kwargs):\n",
        "    concatenated_string = ''\n",
        "    for key, value in kwargs.items():\n",
        "        concatenated_string += value\n",
        "    return concatenated_string\n",
        "\n",
        "result1 = concatenate_strings(a=\"Hello\", b=\" \", c=\"world\", d=\"!\")\n",
        "print(result1)\n",
        "\n",
        "result2 = concatenate_strings(x=\"This\", y=\" is \", z=\"a\", w=\" test.\")\n",
        "print(result2)"
      ],
      "metadata": {
        "colab": {
          "base_uri": "https://localhost:8080/"
        },
        "id": "QXmreDdCwXkN",
        "outputId": "028667bc-275d-4e3c-dbe3-676079a09461"
      },
      "execution_count": 22,
      "outputs": [
        {
          "output_type": "stream",
          "name": "stdout",
          "text": [
            "Hello world!\n",
            "This is a test.\n"
          ]
        }
      ]
    }
  ]
}
