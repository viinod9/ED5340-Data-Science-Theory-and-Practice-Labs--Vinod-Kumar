{
  "nbformat": 4,
  "nbformat_minor": 0,
  "metadata": {
    "colab": {
      "provenance": []
    },
    "kernelspec": {
      "name": "python3",
      "display_name": "Python 3"
    },
    "language_info": {
      "name": "python"
    }
  },
  "cells": [
    {
      "cell_type": "markdown",
      "source": [
        "#Lab3 Part1:\n",
        "\n",
        "#MA23M026\n",
        "\n",
        "#Vinod Kumar"
      ],
      "metadata": {
        "id": "ekBzvHGzq9Af"
      }
    },
    {
      "cell_type": "markdown",
      "source": [
        "###1.Write a program to implement the following operations on a collection of library books:\n",
        "\n",
        "(a) Construct a catalog of books, with each book having an author's name, book title, ISBN number, publication year, and number of pages.\n",
        "\n",
        "(b) Add a new book to the catalog, ensuring that the books are kept in ascending order based on the publication year.\n",
        "\n",
        "(c) Locate a book by its ISBN number and delete the book's entry from the catalog.\n",
        "\n",
        "(d) Insert a new book entry at the end of the catalog using the provided book information.\n",
        "\n",
        "(e) Identify and remove any duplicate entries in the catalog, preserving only one copy of each book based on its ISBN number.\n",
        "\n",
        "(f) Reorganize the entire catalog so that the books are sorted in descending order by the number of pages."
      ],
      "metadata": {
        "id": "ITL3Rey7q6mV"
      }
    },
    {
      "cell_type": "code",
      "execution_count": 32,
      "metadata": {
        "colab": {
          "base_uri": "https://localhost:8080/"
        },
        "id": "u1Mcj1auqfIV",
        "outputId": "77a362bc-477b-438b-c97e-7a302270efe1"
      },
      "outputs": [
        {
          "output_type": "stream",
          "name": "stdout",
          "text": [
            "[{'author': 'Author 1', 'title': 'Title 1', 'isbn': 'ISBN1', 'publication_year': 2000, 'num_pages': 300}, {'author': 'Author 2', 'title': 'Title 2', 'isbn': 'ISBN2', 'publication_year': 1995, 'num_pages': 250}, {'author': 'Author 3', 'title': 'Title 3', 'isbn': 'ISBN3', 'publication_year': 2010, 'num_pages': 400}]\n"
          ]
        }
      ],
      "source": [
        "books = []\n",
        "\n",
        "# (a) A catalog of books\n",
        "book1 = {\"author\": \"Author 1\", \"title\": \"Title 1\", \"isbn\": \"ISBN1\", \"publication_year\": 2000, \"num_pages\": 300}\n",
        "book2 = {\"author\": \"Author 2\", \"title\": \"Title 2\", \"isbn\": \"ISBN2\", \"publication_year\": 1995, \"num_pages\": 250}\n",
        "book3 = {\"author\": \"Author 3\", \"title\": \"Title 3\", \"isbn\": \"ISBN3\", \"publication_year\": 2010, \"num_pages\": 400}\n",
        "\n",
        "# Add books to the catalog\n",
        "books.append(book1)\n",
        "books.append(book2)\n",
        "books.append(book3)\n",
        "print(books)"
      ]
    },
    {
      "cell_type": "code",
      "source": [
        "# (b) Add a new book to the catalog, keeping books in ascending order based on publication year\n",
        "new_book = {\"author\": \"Author 4\", \"title\": \"Title 4\", \"isbn\": \"ISBN4\", \"publication_year\": 2020, \"num_pages\": 350}\n",
        "for i, existing_book in enumerate(books):\n",
        "    if existing_book[\"publication_year\"] > new_book[\"publication_year\"]:\n",
        "        books.insert(i, new_book)\n",
        "        break\n",
        "else:\n",
        "    books.append(new_book)\n",
        "print(books)"
      ],
      "metadata": {
        "colab": {
          "base_uri": "https://localhost:8080/"
        },
        "id": "mhqq7Vef7TB5",
        "outputId": "c1ac7578-e13b-47e1-8fde-b05e98da373c"
      },
      "execution_count": 33,
      "outputs": [
        {
          "output_type": "stream",
          "name": "stdout",
          "text": [
            "[{'author': 'Author 1', 'title': 'Title 1', 'isbn': 'ISBN1', 'publication_year': 2000, 'num_pages': 300}, {'author': 'Author 2', 'title': 'Title 2', 'isbn': 'ISBN2', 'publication_year': 1995, 'num_pages': 250}, {'author': 'Author 3', 'title': 'Title 3', 'isbn': 'ISBN3', 'publication_year': 2010, 'num_pages': 400}, {'author': 'Author 4', 'title': 'Title 4', 'isbn': 'ISBN4', 'publication_year': 2020, 'num_pages': 350}]\n"
          ]
        }
      ]
    },
    {
      "cell_type": "code",
      "source": [
        "# (c) Locate a book by its ISBN number and delete the book's entry from the catalog\n",
        "isbn_to_delete = \"ISBN2\"\n",
        "for i, book in enumerate(books):\n",
        "    if book[\"isbn\"] == isbn_to_delete:\n",
        "        del books[i]\n",
        "        break\n",
        "print(books)"
      ],
      "metadata": {
        "colab": {
          "base_uri": "https://localhost:8080/"
        },
        "id": "0KL_1--47UYX",
        "outputId": "a5b61eab-419a-4e85-f8b4-b7ae178d74b0"
      },
      "execution_count": 34,
      "outputs": [
        {
          "output_type": "stream",
          "name": "stdout",
          "text": [
            "[{'author': 'Author 1', 'title': 'Title 1', 'isbn': 'ISBN1', 'publication_year': 2000, 'num_pages': 300}, {'author': 'Author 3', 'title': 'Title 3', 'isbn': 'ISBN3', 'publication_year': 2010, 'num_pages': 400}, {'author': 'Author 4', 'title': 'Title 4', 'isbn': 'ISBN4', 'publication_year': 2020, 'num_pages': 350}]\n"
          ]
        }
      ]
    },
    {
      "cell_type": "code",
      "source": [
        "# (d) Insert a new book entry at the end of the catalog\n",
        "new_book_entry = {\"author\": \"Author 5\", \"title\": \"Title 5\", \"isbn\": \"ISBN5\", \"publication_year\": 2015, \"num_pages\": 280}\n",
        "books.append(new_book_entry)\n",
        "print(books)"
      ],
      "metadata": {
        "id": "gX8s2GZ9UVOD",
        "colab": {
          "base_uri": "https://localhost:8080/"
        },
        "outputId": "59bd8618-b503-4c3c-bdfe-b481a1de4aca"
      },
      "execution_count": 35,
      "outputs": [
        {
          "output_type": "stream",
          "name": "stdout",
          "text": [
            "[{'author': 'Author 1', 'title': 'Title 1', 'isbn': 'ISBN1', 'publication_year': 2000, 'num_pages': 300}, {'author': 'Author 3', 'title': 'Title 3', 'isbn': 'ISBN3', 'publication_year': 2010, 'num_pages': 400}, {'author': 'Author 4', 'title': 'Title 4', 'isbn': 'ISBN4', 'publication_year': 2020, 'num_pages': 350}, {'author': 'Author 5', 'title': 'Title 5', 'isbn': 'ISBN5', 'publication_year': 2015, 'num_pages': 280}]\n"
          ]
        }
      ]
    },
    {
      "cell_type": "code",
      "source": [
        "# (e) Identify and remove any duplicate entries in the catalog\n",
        "unique_books = {}\n",
        "for book in books:\n",
        "    unique_books[book[\"isbn\"]] = book\n",
        "books = list(unique_books.values())\n",
        "print(books)"
      ],
      "metadata": {
        "colab": {
          "base_uri": "https://localhost:8080/"
        },
        "id": "A7W87Ovp7bl1",
        "outputId": "8276643c-711d-4504-ffaa-e22c2d47fbcc"
      },
      "execution_count": 36,
      "outputs": [
        {
          "output_type": "stream",
          "name": "stdout",
          "text": [
            "[{'author': 'Author 1', 'title': 'Title 1', 'isbn': 'ISBN1', 'publication_year': 2000, 'num_pages': 300}, {'author': 'Author 3', 'title': 'Title 3', 'isbn': 'ISBN3', 'publication_year': 2010, 'num_pages': 400}, {'author': 'Author 4', 'title': 'Title 4', 'isbn': 'ISBN4', 'publication_year': 2020, 'num_pages': 350}, {'author': 'Author 5', 'title': 'Title 5', 'isbn': 'ISBN5', 'publication_year': 2015, 'num_pages': 280}]\n"
          ]
        }
      ]
    },
    {
      "cell_type": "code",
      "source": [
        "# (f) Reorganize the entire catalog so that the books are sorted in descending order by the number of pages\n",
        "books.sort(key=lambda x: x[\"num_pages\"], reverse=True)\n",
        "print(books)"
      ],
      "metadata": {
        "colab": {
          "base_uri": "https://localhost:8080/"
        },
        "id": "Om9DVA7C7fOX",
        "outputId": "a4eb0cba-b2cf-4c00-edaf-aa5a555e3ded"
      },
      "execution_count": 37,
      "outputs": [
        {
          "output_type": "stream",
          "name": "stdout",
          "text": [
            "[{'author': 'Author 3', 'title': 'Title 3', 'isbn': 'ISBN3', 'publication_year': 2010, 'num_pages': 400}, {'author': 'Author 4', 'title': 'Title 4', 'isbn': 'ISBN4', 'publication_year': 2020, 'num_pages': 350}, {'author': 'Author 1', 'title': 'Title 1', 'isbn': 'ISBN1', 'publication_year': 2000, 'num_pages': 300}, {'author': 'Author 5', 'title': 'Title 5', 'isbn': 'ISBN5', 'publication_year': 2015, 'num_pages': 280}]\n"
          ]
        }
      ]
    },
    {
      "cell_type": "code",
      "source": [
        "# Print the final catalog\n",
        "for book in books:\n",
        "    print(book)"
      ],
      "metadata": {
        "colab": {
          "base_uri": "https://localhost:8080/"
        },
        "id": "BeOAm4j47lU1",
        "outputId": "d1718f20-b999-4197-efc3-f0257265f5c2"
      },
      "execution_count": 38,
      "outputs": [
        {
          "output_type": "stream",
          "name": "stdout",
          "text": [
            "{'author': 'Author 3', 'title': 'Title 3', 'isbn': 'ISBN3', 'publication_year': 2010, 'num_pages': 400}\n",
            "{'author': 'Author 4', 'title': 'Title 4', 'isbn': 'ISBN4', 'publication_year': 2020, 'num_pages': 350}\n",
            "{'author': 'Author 1', 'title': 'Title 1', 'isbn': 'ISBN1', 'publication_year': 2000, 'num_pages': 300}\n",
            "{'author': 'Author 5', 'title': 'Title 5', 'isbn': 'ISBN5', 'publication_year': 2015, 'num_pages': 280}\n"
          ]
        }
      ]
    },
    {
      "cell_type": "markdown",
      "source": [
        "###2. Write a program using list comprehension\n",
        "\n",
        "a) To add the corresponding elements of two lists and print the new list.\n",
        "\n",
        "b) To perform element wise multiplication of two lists and print the new list.\n",
        "\n",
        "c) To create a list of the unique characters of a given string.\n",
        "\n",
        "Eg: input = “hello” , output = [‘h’, ‘e’, ‘l’, ‘o’]"
      ],
      "metadata": {
        "id": "wpeIaw_UuTaE"
      }
    },
    {
      "cell_type": "code",
      "source": [
        "from math import *\n",
        "list1 = [1,2,4,1,3,4,5]\n",
        "list2 = [4,7,9,4,6,8,9]\n",
        "\n",
        "# A part\n",
        "add = [sum(x) for x in zip(list1, list2)]\n",
        "print(\"Componentwise addition of two list is : \",add)\n",
        "\n",
        "# B part\n",
        "mul = [prod(x) for x in zip(list1, list2)]\n",
        "print(\"Componentwise multiplication of two list is : \",mul)\n",
        "\n",
        "# C part\n",
        "string1 = \"Hello world\"\n",
        "chars = [char for char in string1 if char.isalpha()]\n",
        "chars = list(set(chars))\n",
        "print(\"Unique characters list is :\", chars)"
      ],
      "metadata": {
        "colab": {
          "base_uri": "https://localhost:8080/"
        },
        "id": "nj4iTeZevBPS",
        "outputId": "9a70606f-7f1b-4d17-84c8-b3e8e5a07145"
      },
      "execution_count": 39,
      "outputs": [
        {
          "output_type": "stream",
          "name": "stdout",
          "text": [
            "Componentwise addition of two list is :  [5, 9, 13, 5, 9, 12, 14]\n",
            "Componentwise multiplication of two list is :  [4, 14, 36, 4, 18, 32, 45]\n",
            "Unique characters list is : ['e', 'w', 'o', 'r', 'H', 'l', 'd']\n"
          ]
        }
      ]
    },
    {
      "cell_type": "markdown",
      "source": [
        "###3. Using the zip function, WAP\n",
        "\n",
        "a) To add the elements of 2 matrices (Define matrices as per your wish).\n",
        "\n",
        "b) To perform element wise multiplication on 2 matrices."
      ],
      "metadata": {
        "id": "4Bl7TcJYui47"
      }
    },
    {
      "cell_type": "code",
      "source": [
        "matrix1 = [[1,2,4],[1,3,4],[3,7,5]]\n",
        "matrix2 = [[1,5,2],[8,4,2],[9,4,1]]\n",
        "\n",
        "# A part\n",
        "addition = [ ]\n",
        "for a, b in zip(matrix1,matrix2):\n",
        "  lis = [ ]\n",
        "  for c, d in zip(a,b):\n",
        "    lis.append(c+d)\n",
        "  addition.append(lis)\n",
        "print(\"Addition of above matrices is : \",addition)\n",
        "\n",
        "# B part\n",
        "multi = [ ]\n",
        "for a, b in zip(matrix1,matrix2):\n",
        "  lis = [ ]\n",
        "  for c, d in zip(a,b):\n",
        "    lis.append(c*d)\n",
        "  multi.append(lis)\n",
        "print(\"Multiplication of above matrices is : \",multi)"
      ],
      "metadata": {
        "colab": {
          "base_uri": "https://localhost:8080/"
        },
        "id": "NL0okrIr8CLj",
        "outputId": "9c843585-f254-4df2-e8c4-1a1a961d52e1"
      },
      "execution_count": 40,
      "outputs": [
        {
          "output_type": "stream",
          "name": "stdout",
          "text": [
            "Addition of above matrices is :  [[2, 7, 6], [9, 7, 6], [12, 11, 6]]\n",
            "Multiplication of above matrices is :  [[1, 10, 8], [8, 12, 8], [27, 28, 5]]\n"
          ]
        }
      ]
    },
    {
      "cell_type": "markdown",
      "source": [
        "###4. List of List : Given a square matrix represented as a list of lists,\n",
        "\n",
        "a) WAP to print the row sum, column sum and trace of the matrix\n",
        "\n",
        "b) WAP to print the transpose of the matrix.\n",
        "\n",
        "c) WAP to check whether the given matrix is symmetric or not.\n",
        "\n",
        "d) WAP to check whether the Identity matrix (I) is positive definite or not by using Quadratic form method (x^T*I*x > 0), where x is any non zero vector."
      ],
      "metadata": {
        "id": "aHLemH4JumsE"
      }
    },
    {
      "cell_type": "code",
      "source": [
        "matrix1 = [[1,2,4],[1,3,4],[3,7,5]]\n",
        "print(\"Matrix  : \", matrix1)\n",
        "\n",
        "# For Column Sum\n",
        "col_sum=[]\n",
        "for i in range(0,len(matrix1)):\n",
        "    s=0\n",
        "    for j in range(0,len(matrix1)):\n",
        "        s+=matrix1[j][i]\n",
        "    col_sum.append(s)\n",
        "print(\"Column Sum is : \",col_sum)\n",
        "\n",
        "# For Row Sum\n",
        "row_sum =[]\n",
        "for i in range(0,len(matrix1)):\n",
        "    s=0\n",
        "    for j in range(0,len(matrix1)):\n",
        "        s+=matrix1[i][j]\n",
        "    row_sum.append(s)\n",
        "print(\"Row Sum is : \",row_sum)\n",
        "\n",
        "# For Trace\n",
        "s = 0\n",
        "for j in range(0,len(matrix1)):\n",
        "  s+=matrix1[j][j]\n",
        "print(\"Trace is : \",s)\n",
        "\n",
        "# For Transpose\n",
        "matrix2 = [[3,2,4],[1,8,4],[0,7,5]]\n",
        "trans = [ ]\n",
        "for i in range(len(matrix2[0])):\n",
        "    trans.append([])\n",
        "\n",
        "for i in range(len(matrix2)):\n",
        "    for j in range(len(matrix2[i])):\n",
        "        trans[j].append(matrix2[i][j])\n",
        "\n",
        "print(\"Column Transpose is : \", trans)\n",
        "\n",
        "# For Checking Symmetry\n",
        "print(\"Symmetric : \",trans==matrix2)\n",
        "\n",
        "\n",
        "# For checking positive definite matrix for identity matrix\n",
        "I = [[1,0,0],[0,1,0],[0,0,1]]"
      ],
      "metadata": {
        "colab": {
          "base_uri": "https://localhost:8080/"
        },
        "id": "5FyPoJKmBTAS",
        "outputId": "c1da63d7-3db1-4c87-e7fe-296475cc81c1"
      },
      "execution_count": 41,
      "outputs": [
        {
          "output_type": "stream",
          "name": "stdout",
          "text": [
            "Matrix  :  [[1, 2, 4], [1, 3, 4], [3, 7, 5]]\n",
            "Column Sum is :  [5, 12, 13]\n",
            "Row Sum is :  [7, 8, 15]\n",
            "Trace is :  9\n",
            "Column Transpose is :  [[3, 1, 0], [2, 8, 7], [4, 4, 5]]\n",
            "Symmetric :  False\n"
          ]
        }
      ]
    },
    {
      "cell_type": "markdown",
      "source": [
        "###5.  List of Lists : WAP to remove sub lists from a given list of lists that contain an element outside a given range.\n",
        "\n",
        "Example :\n",
        "\n",
        "Input : [[3], [1, 3, 2], [0, 1, 9, 3, 5, 7], [9, 10], [13, 14, 16, 17]]  Range: 1, 5\n",
        "\n",
        "Output : [[3], [1, 3, 2]]"
      ],
      "metadata": {
        "id": "qVuBf-ivutMf"
      }
    },
    {
      "cell_type": "code",
      "source": [
        "input_list = [[3], [1, 3, 2], [0, 1, 9, 3, 5, 7], [9, 10], [13, 14, 16, 17]]\n",
        "min_range = 1\n",
        "max_range = 5\n",
        "\n",
        "output_list = []\n",
        "\n",
        "for sublist in input_list:\n",
        "    is_valid = True\n",
        "    for num in sublist:\n",
        "        if num < min_range or num > max_range:\n",
        "            is_valid = False\n",
        "            break\n",
        "    if is_valid:\n",
        "        output_list.append(sublist)\n",
        "\n",
        "print(\"Output:\", output_list)"
      ],
      "metadata": {
        "colab": {
          "base_uri": "https://localhost:8080/"
        },
        "id": "u52a-mA8L1xv",
        "outputId": "e89fedef-f22a-4dec-cb27-8bf3a6280bf2"
      },
      "execution_count": 42,
      "outputs": [
        {
          "output_type": "stream",
          "name": "stdout",
          "text": [
            "Output: [[3], [1, 3, 2]]\n"
          ]
        }
      ]
    }
  ]
}