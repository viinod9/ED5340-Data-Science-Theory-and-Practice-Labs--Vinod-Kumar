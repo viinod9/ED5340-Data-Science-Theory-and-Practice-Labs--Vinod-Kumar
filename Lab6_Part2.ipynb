{
  "nbformat": 4,
  "nbformat_minor": 0,
  "metadata": {
    "colab": {
      "provenance": []
    },
    "kernelspec": {
      "name": "python3",
      "display_name": "Python 3"
    },
    "language_info": {
      "name": "python"
    }
  },
  "cells": [
    {
      "cell_type": "markdown",
      "source": [
        "##(6).    Create a base class Vehicle with the following attributes:\n",
        "\n",
        "make (string)\n",
        "\n",
        "model (string)\n",
        "\n",
        "year (int)\n",
        "\n",
        "Create a method initialize_vehicle to set the above attributes. Also, create a method display_vehicle to print these attributes.\n",
        "\n",
        "Create a class Car inherited from Vehicle with the following additional attribute:\n",
        "\n",
        "fuel_type (string)\n",
        "\n",
        "Create a method get_car_details to initialize the above attribute along with Vehicle attributes.\n",
        "\n",
        "Also, create a method display_vehicle to print these attributes along with Vehicle attributes.\n",
        "\n",
        "Create a class Bike inherited from Vehicle with the following additional attribute:\n",
        "       \n",
        "gear_count (int)\n",
        "\n",
        "Create a method get_bike_details to initialize the above attribute along with Vehicle attributes.\n",
        "\n",
        "Also, create a method display_vehicle to print these attributes along with Vehicle attributes.\n",
        "\n",
        "Create two different objects for Car and Bike and demonstrate each of the methods.\n",
        "\n",
        "     Example -1:\n",
        "\n",
        "        my_car = Car()\n",
        "\n",
        "        my_car.get_car_details(\"Toyota\", \"Camry\", 2020, \"Petrol\")\n",
        "\n",
        "        my_car.display_vehicle()\n",
        "\n",
        "        Output:\n",
        "\n",
        "           Make: Toyota, Model: Camry, Year: 2020\n",
        "\n",
        "           Fuel Type: Petrol\n",
        "\n",
        "          Example -2 :\n",
        "\n",
        "           my_bike = Bike()\n",
        "\n",
        "           my_bike.get_bike_details(\"Yamaha\", \"YZF R1\", 2021, 6)\n",
        "\n",
        "           my_bike.display_vehicle()\n",
        "\n",
        "          Output:\n",
        "\n",
        "             Make: Yamaha, Model: YZF R1, Year: 2021\n",
        "\n",
        "             Gear Count: 6"
      ],
      "metadata": {
        "id": "5HfMCKgMtogt"
      }
    },
    {
      "cell_type": "code",
      "execution_count": 1,
      "metadata": {
        "colab": {
          "base_uri": "https://localhost:8080/"
        },
        "id": "1snJQ0lStVrX",
        "outputId": "27b82e1d-759a-4b41-d5b8-cdf7fbc4883c"
      },
      "outputs": [
        {
          "output_type": "stream",
          "name": "stdout",
          "text": [
            "Make: Toyota, Model: Camry, Year: 2020\n",
            "Fuel Type: Petrol\n",
            "Make: Yamaha, Model: YZF R1, Year: 2021\n",
            "Gear Count: 6\n"
          ]
        }
      ],
      "source": [
        "class Vehicle:\n",
        "    def __init__(self):\n",
        "        # Initialize attributes for make, model, and year\n",
        "        self.make = \"\"\n",
        "        self.model = \"\"\n",
        "        self.year = 0\n",
        "\n",
        "    def initialize_vehicle(self, make, model, year):\n",
        "        # Method to set vehicle attributes\n",
        "        self.make = make\n",
        "        self.model = model\n",
        "        self.year = year\n",
        "\n",
        "    def display_vehicle(self):\n",
        "        # Method to display vehicle details\n",
        "        print(f\"Make: {self.make}, Model: {self.model}, Year: {self.year}\")\n",
        "\n",
        "\n",
        "class Car(Vehicle):\n",
        "    def __init__(self):\n",
        "        # Initialize Car attributes and inherit from Vehicle\n",
        "        super().__init__()\n",
        "        self.fuel_type = \"\"\n",
        "\n",
        "    def get_car_details(self, make, model, year, fuel_type):\n",
        "        # Method to set Car attributes including those from Vehicle\n",
        "        self.initialize_vehicle(make, model, year)\n",
        "        self.fuel_type = fuel_type\n",
        "\n",
        "    def display_vehicle(self):\n",
        "        # Method to display Car details along with those from Vehicle\n",
        "        super().display_vehicle()\n",
        "        print(f\"Fuel Type: {self.fuel_type}\")\n",
        "\n",
        "\n",
        "class Bike(Vehicle):\n",
        "    def __init__(self):\n",
        "        # Initialize Bike attributes and inherit from Vehicle\n",
        "        super().__init__()\n",
        "        self.gear_count = 0\n",
        "\n",
        "    def get_bike_details(self, make, model, year, gear_count):\n",
        "        # Method to set Bike attributes including those from Vehicle\n",
        "        self.initialize_vehicle(make, model, year)\n",
        "        self.gear_count = gear_count\n",
        "\n",
        "    def display_vehicle(self):\n",
        "        # Method to display Bike details along with those from Vehicle\n",
        "        super().display_vehicle()\n",
        "        print(f\"Gear Count: {self.gear_count}\")\n",
        "\n",
        "\n",
        "# Example usage:\n",
        "my_car = Car()\n",
        "# Set Car details\n",
        "my_car.get_car_details(\"Toyota\", \"Camry\", 2020, \"Petrol\")\n",
        "# Display Car details\n",
        "my_car.display_vehicle()\n",
        "\n",
        "my_bike = Bike()\n",
        "# Set Bike details\n",
        "my_bike.get_bike_details(\"Yamaha\", \"YZF R1\", 2021, 6)\n",
        "# Display Bike details\n",
        "my_bike.display_vehicle()"
      ]
    },
    {
      "cell_type": "markdown",
      "source": [
        "##(7). Suppose you are building a Python program to manage a school's student data. You need to create a Student class that contains information such as the student's name, age, grade, and class schedule. Additionally, there are some attributes that are shared by all students, such as the school name, the total number of students, and the number of classes offered.\n",
        "\n",
        "How can you use class variables in Python to define these shared attributes of the Student class? What are the advantages of using class variables in this scenario? Can you provide an example program that demonstrates the use of class variables in the Student class?"
      ],
      "metadata": {
        "id": "crCAMNsluThC"
      }
    },
    {
      "cell_type": "code",
      "source": [
        "class Student:\n",
        "    # Class variables\n",
        "    school_name = \"ABC School\"\n",
        "    total_students = 0\n",
        "    total_classes = 5\n",
        "\n",
        "    def __init__(self, name, age, grade, schedule):\n",
        "        # Instance variables\n",
        "        self.name = name\n",
        "        self.age = age\n",
        "        self.grade = grade\n",
        "        self.schedule = schedule\n",
        "        # Increment total_students class variable\n",
        "        Student.total_students += 1\n",
        "\n",
        "    def display_student_info(self):\n",
        "        print(f\"Name: {self.name}, Age: {self.age}, Grade: {self.grade}\")\n",
        "        print(f\"Schedule: {self.schedule}\")\n",
        "\n",
        "    @classmethod\n",
        "    def display_school_info(cls):\n",
        "        print(f\"School Name: {cls.school_name}\")\n",
        "        print(f\"Total Students: {cls.total_students}\")\n",
        "        print(f\"Total Classes Offered: {cls.total_classes}\")\n",
        "\n",
        "\n",
        "# Create student instances\n",
        "student1 = Student(\"Vinod\", 15, 10, [\"Math\", \"Science\", \"History\"])\n",
        "student2 = Student(\"Suman\", 14, 9, [\"English\", \"Art\", \"Music\"])\n",
        "\n",
        "# Display student information\n",
        "student1.display_student_info()\n",
        "student2.display_student_info()\n",
        "\n",
        "# Display school information using class method\n",
        "Student.display_school_info()"
      ],
      "metadata": {
        "colab": {
          "base_uri": "https://localhost:8080/"
        },
        "id": "-rNtYAartXff",
        "outputId": "31434fa0-8d88-4b18-823a-cd293dc0c476"
      },
      "execution_count": 2,
      "outputs": [
        {
          "output_type": "stream",
          "name": "stdout",
          "text": [
            "Name: Vinod, Age: 15, Grade: 10\n",
            "Schedule: ['Math', 'Science', 'History']\n",
            "Name: Suman, Age: 14, Grade: 9\n",
            "Schedule: ['English', 'Art', 'Music']\n",
            "School Name: ABC School\n",
            "Total Students: 2\n",
            "Total Classes Offered: 5\n"
          ]
        }
      ]
    },
    {
      "cell_type": "markdown",
      "source": [
        "##(8). Class Inheritance in Python: Finding GCD (greatest common divisor) and LCM (least common multiple) of Numbers and Handling Composite Numbers.\n",
        "\n",
        "a) Create a Numbers class with a, b, find_gcd(), and find_lcm() methods.\n",
        "\n",
        "b) Create an EvenNumbers class that inherits from Numbers and overrides find_lcm() to handle even numbers.\n",
        "\n",
        "c) Create an OddNumbers class that inherits from Numbers and overrides find_lcm() to handle odd numbers.\n",
        "\n",
        "d) Create a CompositeNumbers class that inherits from EvenNumbers and OddNumbers and overrides find_gcd() to handle composite numbers.\n",
        "\n",
        "e) Create a CompositeNumbers object with a = 12 and b = 9, and call its find_lcm() and find_gcd() methods."
      ],
      "metadata": {
        "id": "KK7crL87wCko"
      }
    },
    {
      "cell_type": "code",
      "source": [
        "class Numbers:\n",
        "    def __init__(self, a, b):\n",
        "        # Initialize instance variables a and b\n",
        "        self.a = a\n",
        "        self.b = b\n",
        "\n",
        "    def find_gcd(self):\n",
        "        # Method to find the greatest common divisor (GCD) of numbers a and b\n",
        "        x = self.a\n",
        "        y = self.b\n",
        "        while y != 0:\n",
        "            x, y = y, x % y\n",
        "        return x\n",
        "\n",
        "    def find_lcm(self):\n",
        "        # Method to find the least common multiple (LCM) of numbers a and b\n",
        "        return (self.a * self.b) // self.find_gcd()\n",
        "\n",
        "\n",
        "class EvenNumbers(Numbers):\n",
        "    def find_lcm(self):\n",
        "        # Override find_lcm() method to handle even numbers\n",
        "        if self.a % 2 == 0 and self.b % 2 == 0:\n",
        "            # If both numbers are even, use superclass method\n",
        "            return super().find_lcm()\n",
        "        else:\n",
        "            # If at least one number is odd, calculate LCM manually\n",
        "            return (self.a * self.b) // self.find_gcd()\n",
        "\n",
        "\n",
        "class OddNumbers(Numbers):\n",
        "    def find_lcm(self):\n",
        "        # Override find_lcm() method to handle odd numbers\n",
        "        if self.a % 2 != 0 and self.b % 2 != 0:\n",
        "            # If both numbers are odd, use superclass method\n",
        "            return super().find_lcm()\n",
        "        else:\n",
        "            # If at least one number is even, calculate LCM manually\n",
        "            return (self.a * self.b) // self.find_gcd()\n",
        "\n",
        "\n",
        "class CompositeNumbers(EvenNumbers, OddNumbers):\n",
        "    def find_gcd(self):\n",
        "        # Override find_gcd() method to handle composite numbers\n",
        "        return super().find_gcd()\n",
        "\n",
        "\n",
        "# Create a CompositeNumbers object\n",
        "composite = CompositeNumbers(12, 9)\n",
        "\n",
        "# Call find_lcm() and find_gcd() methods\n",
        "lcm = composite.find_lcm()\n",
        "gcd = composite.find_gcd()\n",
        "\n",
        "# Print results\n",
        "print(\"LCM:\", lcm)\n",
        "print(\"GCD:\", gcd)"
      ],
      "metadata": {
        "colab": {
          "base_uri": "https://localhost:8080/"
        },
        "id": "N3f2UMIrvFCx",
        "outputId": "17f85cf1-fc3e-4a7a-d015-70dfa98d9ebb"
      },
      "execution_count": 3,
      "outputs": [
        {
          "output_type": "stream",
          "name": "stdout",
          "text": [
            "LCM: 36\n",
            "GCD: 3\n"
          ]
        }
      ]
    },
    {
      "cell_type": "markdown",
      "source": [
        "##(9). WAP to manage the collections of books in a library in the following  manner:\n",
        "\n",
        " Create a Python script that can both read from and write to a CSV file, containing details about each book. Each book's information will include its title, author, publication year, and ISBN number. Your script should be capable of adding new books to the CSV file and listing all the books currently stored in the file.\n",
        "\n",
        "The program should begin by checking if the CSV file exists. If it does not, your script should create it and initialize it with the appropriate headers. Then, there should be 2 options: to add a new book or to display all books. When adding a new book, the user should be prompted to enter the title, author, publication year, and ISBN number. This new book should then be added to the CSV file without overwriting the existing entries. When choosing to display all books, the script should read from the CSV file and print each book's details."
      ],
      "metadata": {
        "id": "5sUDv_V7xIps"
      }
    },
    {
      "cell_type": "code",
      "source": [
        "import csv\n",
        "import os\n",
        "\n",
        "# Function to create or initialize the CSV file with headers if it doesn't exist\n",
        "def initialize_csv_file(file_name):\n",
        "    # Check if the file exists\n",
        "    if not os.path.exists(file_name):\n",
        "        # If the file doesn't exist, create it and write the header row\n",
        "        with open(file_name, mode='w', newline='') as file:\n",
        "            writer = csv.writer(file)\n",
        "            writer.writerow(['Title', 'Author', 'Publication Year', 'ISBN'])\n",
        "\n",
        "# Function to add a new book to the CSV file\n",
        "def add_book(file_name, title, author, year, isbn):\n",
        "    # Open the CSV file in append mode and write the new book details\n",
        "    with open(file_name, mode='a', newline='') as file:\n",
        "        writer = csv.writer(file)\n",
        "        writer.writerow([title, author, year, isbn])\n",
        "    print(\"Book added successfully!\")\n",
        "\n",
        "# Function to display all books stored in the CSV file\n",
        "def display_books(file_name):\n",
        "    # Open the CSV file in read mode and display the books\n",
        "    with open(file_name, mode='r') as file:\n",
        "        reader = csv.reader(file)\n",
        "        next(reader)  # Skip the header row\n",
        "        for row in reader:\n",
        "            print(\"Title:\", row[0])\n",
        "            print(\"Author:\", row[1])\n",
        "            print(\"Publication Year:\", row[2])\n",
        "            print(\"ISBN:\", row[3])\n",
        "            print()\n",
        "\n",
        "# Main function\n",
        "def main():\n",
        "    file_name = \"library_books.csv\"  # Define the CSV file name\n",
        "    initialize_csv_file(file_name)   # Initialize the CSV file if it doesn't exist\n",
        "\n",
        "    while True:\n",
        "        print(\"\\nLibrary Management System\")\n",
        "        print(\"1. Add a new book\")\n",
        "        print(\"2. Display all books\")\n",
        "        print(\"3. Quit\")\n",
        "\n",
        "        choice = input(\"Enter your choice: \")\n",
        "\n",
        "        if choice == '1':\n",
        "            title = input(\"Enter the title of the book: \")\n",
        "            author = input(\"Enter the author of the book: \")\n",
        "            year = input(\"Enter the publication year of the book: \")\n",
        "            isbn = input(\"Enter the ISBN number of the book: \")\n",
        "            add_book(file_name, title, author, year, isbn)  # Call add_book function\n",
        "        elif choice == '2':\n",
        "            print(\"\\nAll Books in the Library:\")\n",
        "            display_books(file_name)   # Call display_books function\n",
        "        elif choice == '3':\n",
        "            print(\"Exiting the program...\")\n",
        "            break\n",
        "        else:\n",
        "            print(\"Invalid choice! Please try again.\")\n",
        "\n",
        "\n",
        "if __name__ == \"__main__\":\n",
        "    main()"
      ],
      "metadata": {
        "colab": {
          "base_uri": "https://localhost:8080/"
        },
        "id": "cFExoR3xw_1B",
        "outputId": "7ccd0008-52cb-4f6a-dc87-b52012690480"
      },
      "execution_count": 5,
      "outputs": [
        {
          "output_type": "stream",
          "name": "stdout",
          "text": [
            "\n",
            "Library Management System\n",
            "1. Add a new book\n",
            "2. Display all books\n",
            "3. Quit\n",
            "Enter your choice: 1\n",
            "Enter the title of the book: Numerical Analysis\n",
            "Enter the author of the book: Burton N\n",
            "Enter the publication year of the book: 2023\n",
            "Enter the ISBN number of the book: 243656\n",
            "Book added successfully!\n",
            "\n",
            "Library Management System\n",
            "1. Add a new book\n",
            "2. Display all books\n",
            "3. Quit\n",
            "Enter your choice: 3\n",
            "Exiting the program...\n"
          ]
        }
      ]
    },
    {
      "cell_type": "markdown",
      "source": [
        "##(10). WAP to create a pandas dataframe with a list of words and sort them in ascending order. The sorted words should be copied to a new file."
      ],
      "metadata": {
        "id": "xlvVaYhYQeR-"
      }
    },
    {
      "cell_type": "code",
      "source": [
        "import pandas as pd\n",
        "\n",
        "# List of words\n",
        "words = ['apple', 'banana', 'orange', 'grape', 'pineapple']\n",
        "\n",
        "# Create DataFrame from the list of words\n",
        "df = pd.DataFrame({'Words': words})\n",
        "\n",
        "# Sort words in ascending order\n",
        "df_sorted = df.sort_values(by='Words')\n",
        "\n",
        "# Write sorted words to a new file\n",
        "file_path = 'sorted_words.txt'\n",
        "df_sorted.to_csv(file_path, index=False, header=False)\n",
        "\n",
        "# Display confirmation message\n",
        "print(\"Sorted words have been written to\", file_path)"
      ],
      "metadata": {
        "colab": {
          "base_uri": "https://localhost:8080/"
        },
        "id": "QqYvbKxyQqrz",
        "outputId": "9e1d629f-0228-462e-ee7a-f2758f902938"
      },
      "execution_count": null,
      "outputs": [
        {
          "output_type": "stream",
          "name": "stdout",
          "text": [
            "Sorted words have been written to sorted_words.txt\n"
          ]
        }
      ]
    }
  ]
}
