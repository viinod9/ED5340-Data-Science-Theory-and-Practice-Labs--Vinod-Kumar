{
  "nbformat": 4,
  "nbformat_minor": 0,
  "metadata": {
    "colab": {
      "provenance": []
    },
    "kernelspec": {
      "name": "python3",
      "display_name": "Python 3"
    },
    "language_info": {
      "name": "python"
    }
  },
  "cells": [
    {
      "cell_type": "markdown",
      "source": [
        "##(1) Design a class named Polygon that initializes with the length of a side. Then, derive a class named Square from the Polygon class. Utilize the side length defined in the Polygon class for the Square class. Within the Square class, implement a method called findArea() that calculates and returns the square's area based on its side length. Use __init__() for necessary initialization"
      ],
      "metadata": {
        "id": "sFtdzmzH0r4F"
      }
    },
    {
      "cell_type": "code",
      "execution_count": 5,
      "metadata": {
        "colab": {
          "base_uri": "https://localhost:8080/"
        },
        "id": "xiiGWvyJ0lfS",
        "outputId": "24625106-9120-40f1-af16-d51cbbedee2b"
      },
      "outputs": [
        {
          "output_type": "stream",
          "name": "stdout",
          "text": [
            "Side length of square: 5\n",
            "Area of square: 25\n"
          ]
        }
      ],
      "source": [
        "class Polygon:\n",
        "    def __init__(self, side_length):\n",
        "        self.side_length = side_length\n",
        "\n",
        "class Square(Polygon):\n",
        "    def __init__(self, side_length):\n",
        "        super().__init__(side_length)\n",
        "\n",
        "    def findArea(self):\n",
        "        return self.side_length ** 2\n",
        "\n",
        "square = Square(5)\n",
        "print(\"Side length of square:\", square.side_length)\n",
        "print(\"Area of square:\", square.findArea())"
      ]
    },
    {
      "cell_type": "markdown",
      "source": [
        "## 2.  (a)  Create a class Father with attributes\n",
        "father_name (string), father_age (int), father_talents (set of strings)\n",
        "\n",
        "Create a class Mother with attributes:\n",
        "\n",
        " mother_name (string), mother_age (int), mother_talents (set of strings)\n",
        "\n",
        "Create a class Child that inherits both father and mother with attributes:\n",
        "\n",
        "child_name (string), child_age (int), child_gender(string)"
      ],
      "metadata": {
        "id": "xXF8zWZO2HDt"
      }
    },
    {
      "cell_type": "markdown",
      "source": [
        "## (b) Create a function getChildDetails() in Child to input the details of the child, it’s father and mother and printChildDetails() to print the details using     printChildDetails()"
      ],
      "metadata": {
        "id": "GMo4qaTs5SHE"
      }
    },
    {
      "cell_type": "markdown",
      "source": [
        "##(c) Create an object of class Child and read the details by invoking getChildDetails() and display the details entered."
      ],
      "metadata": {
        "id": "6K9tqpKE5a5S"
      }
    },
    {
      "cell_type": "markdown",
      "source": [
        "##(d) Create a function displayTalents() in class Child that displays the talents of the child inherited from father and mother. A talent is inherited to a child if both the parents possess it."
      ],
      "metadata": {
        "id": "H8rnp22h7afa"
      }
    },
    {
      "cell_type": "code",
      "source": [
        "class Father:\n",
        "    def __init__(self, father_name, father_age, father_talents):\n",
        "        \"\"\"\n",
        "        (a) Initializes Father object with given attributes.\n",
        "        \"\"\"\n",
        "        self.father_name = father_name\n",
        "        self.father_age = father_age\n",
        "        self.father_talents = father_talents\n",
        "\n",
        "class Mother:\n",
        "    def __init__(self, mother_name, mother_age, mother_talents):\n",
        "        \"\"\"\n",
        "        (a) Initializes Mother object with given attributes.\n",
        "        \"\"\"\n",
        "        self.mother_name = mother_name\n",
        "        self.mother_age = mother_age\n",
        "        self.mother_talents = mother_talents\n",
        "\n",
        "class Child(Father, Mother):\n",
        "    def __init__(self, father_name, father_age, father_talents,\n",
        "                 mother_name, mother_age, mother_talents,\n",
        "                 child_name, child_age, child_gender):\n",
        "        \"\"\"\n",
        "        (a) Initializes Child object with given attributes.\n",
        "        \"\"\"\n",
        "        Father.__init__(self, father_name, father_age, father_talents)\n",
        "        Mother.__init__(self, mother_name, mother_age, mother_talents)\n",
        "        self.child_name = child_name\n",
        "        self.child_age = child_age\n",
        "        self.child_gender = child_gender\n",
        "\n",
        "    def getChildDetails(self):\n",
        "        \"\"\"\n",
        "        (b) Method to input details of the child, father, and mother.\n",
        "        \"\"\"\n",
        "        self.child_name = input(\"Enter child's name: \")\n",
        "        self.child_age = int(input(\"Enter child's age: \"))\n",
        "        self.child_gender = input(\"Enter child's gender: \")\n",
        "\n",
        "        self.father_name = input(\"Enter father's name: \")\n",
        "        self.father_age = int(input(\"Enter father's age: \"))\n",
        "        self.father_talents = set(input(\"Enter father's talents (comma-separated): \").split(','))\n",
        "\n",
        "        self.mother_name = input(\"Enter mother's name: \")\n",
        "        self.mother_age = int(input(\"Enter mother's age: \"))\n",
        "        self.mother_talents = set(input(\"Enter mother's talents (comma-separated): \").split(','))\n",
        "\n",
        "    def printChildDetails(self):\n",
        "        \"\"\"\n",
        "        (b) Method to print details of the child, father, and mother.\n",
        "        \"\"\"\n",
        "        print(\"Child Name:\", self.child_name)\n",
        "        print(\"Child Age:\", self.child_age)\n",
        "        print(\"Child Gender:\", self.child_gender)\n",
        "        print(\"Father's Name:\", self.father_name)\n",
        "        print(\"Father's Age:\", self.father_age)\n",
        "        print(\"Father's Talents:\", ', '.join(self.father_talents))\n",
        "        print(\"Mother's Name:\", self.mother_name)\n",
        "        print(\"Mother's Age:\", self.mother_age)\n",
        "        print(\"Mother's Talents:\", ', '.join(self.mother_talents))\n",
        "\n",
        "    def displayTalents(self):\n",
        "        \"\"\"\n",
        "        (d) Method to display talents inherited from both father and mother.\n",
        "        \"\"\"\n",
        "        inherited_talents = self.father_talents.intersection(self.mother_talents)\n",
        "        if inherited_talents:\n",
        "            print(\"Inherited Talents:\", ', '.join(inherited_talents))\n",
        "        else:\n",
        "            print(\"No inherited talents.\")\n",
        "\n",
        "# (c) Create an object of class Child and read the details\n",
        "child = Child(\"\", 0, set(), \"\", 0, set(), \"\", 0, \"\")\n",
        "child.getChildDetails()\n",
        "\n",
        "# (c) Display the details entered\n",
        "print(\"\\nChild Details:\")\n",
        "child.printChildDetails()\n",
        "\n",
        "# (d) Display inherited talents\n",
        "print(\"\\nInherited Talents:\")\n",
        "child.displayTalents()"
      ],
      "metadata": {
        "colab": {
          "base_uri": "https://localhost:8080/"
        },
        "id": "JiOmBJH97tZ7",
        "outputId": "7b8515e5-ad52-4ea0-c4f7-ac98d9355ada"
      },
      "execution_count": 15,
      "outputs": [
        {
          "output_type": "stream",
          "name": "stdout",
          "text": [
            "Enter child's name: Vinod\n",
            "Enter child's age: 22\n",
            "Enter child's gender: Male\n",
            "Enter father's name: Prem Pal\n",
            "Enter father's age: 38\n",
            "Enter father's talents (comma-separated): Cooking, Athlete\n",
            "Enter mother's name: Gomti Devi\n",
            "Enter mother's age: 37\n",
            "Enter mother's talents (comma-separated): Cooking, Dancing\n",
            "\n",
            "Child Details:\n",
            "Child Name: Vinod\n",
            "Child Age: 22\n",
            "Child Gender: Male\n",
            "Father's Name: Prem Pal\n",
            "Father's Age: 38\n",
            "Father's Talents:  Athlete, Cooking\n",
            "Mother's Name: Gomti Devi\n",
            "Mother's Age: 37\n",
            "Mother's Talents:  Dancing, Cooking\n",
            "\n",
            "Inherited Talents:\n",
            "Inherited Talents: Cooking\n"
          ]
        }
      ]
    },
    {
      "cell_type": "markdown",
      "source": [
        "## (3).  Text File Input Output\n",
        "Create a .txt (text) file and use the pledge of India as the content of the text file.\n",
        "\n",
        "Write a python program that reads this text file, processes it by counting the number of occurrences of each word in the file, and then writes the result back to a new text file."
      ],
      "metadata": {
        "id": "DSGhGS7u_t0E"
      }
    },
    {
      "cell_type": "code",
      "source": [
        "# Content for .txt File\n",
        "pledge_content = \"\"\"I pledge allegiance to the flag of India And to the Republic for which it stands,\n",
        "I love my country and I am proud of its rich and varied heritage,\n",
        "I shall always strive to be worthy of it,\n",
        "I shall give my parents, teachers and all elders respect and treat everyone with courtesy. To my country and my people,\n",
        "I pledge my devotion. One Nation, indivisible with liberty and justice for all.\"\"\"\n",
        "\n",
        "file_path = \"pledge_of_india.txt\"\n",
        "\n",
        "# Write the content to the text file\n",
        "with open(file_path, 'w') as file:\n",
        "    file.write(pledge_content)\n",
        "\n",
        "print(f\"The Pledge of India has been written to {file_path}\")"
      ],
      "metadata": {
        "colab": {
          "base_uri": "https://localhost:8080/"
        },
        "id": "p4q6UiQYBhrA",
        "outputId": "9fecab1b-5f3d-424e-8c50-49585def8c58"
      },
      "execution_count": 23,
      "outputs": [
        {
          "output_type": "stream",
          "name": "stdout",
          "text": [
            "The Pledge of India has been written to pledge_of_india.txt\n"
          ]
        }
      ]
    },
    {
      "cell_type": "code",
      "source": [
        "def count_word_occurrences(input_file, output_file):\n",
        "    try:\n",
        "        # Open the input file in read mode\n",
        "        with open(input_file, 'r') as file:\n",
        "            content = file.read().lower()  # Read content and convert to lowercase\n",
        "    except FileNotFoundError:\n",
        "        print(\"Input file not found.\")\n",
        "        return\n",
        "\n",
        "    # Remove punctuation marks\n",
        "    punctuation_marks = '''!()-[]{};:'\"\\,<>./?@#$%^&*_~'''\n",
        "    for mark in punctuation_marks:\n",
        "        content = content.replace(mark, ' ')\n",
        "\n",
        "    # Split the content into words\n",
        "    words = content.split()\n",
        "\n",
        "    # Count occurrences of each word\n",
        "    word_count = {}\n",
        "    for word in words:\n",
        "        word_count[word] = word_count.get(word, 0) + 1\n",
        "\n",
        "    try:\n",
        "        # Write the word count to the output file\n",
        "        with open(output_file, 'w') as file:\n",
        "            for word, count in word_count.items():\n",
        "                file.write(f\"{word}: {count}\\n\")\n",
        "    except IOError:\n",
        "        print(\"Error writing to output file.\")\n",
        "\n",
        "# Input and output file paths\n",
        "input_file = \"pledge_of_india.txt\"\n",
        "output_file = \"word_count_result.txt\"\n",
        "\n",
        "# Call the function to count word occurrences\n",
        "count_word_occurrences(input_file, output_file)\n",
        "\n",
        "print(\"Word count results have been written to word_count_result.txt.\")"
      ],
      "metadata": {
        "colab": {
          "base_uri": "https://localhost:8080/"
        },
        "id": "gN07VAGyCMwK",
        "outputId": "b199938b-7dac-450a-cd64-cd3f0fd418ce"
      },
      "execution_count": 28,
      "outputs": [
        {
          "output_type": "stream",
          "name": "stdout",
          "text": [
            "Word count results have been written to word_count_result.txt.\n"
          ]
        }
      ]
    },
    {
      "cell_type": "markdown",
      "source": [
        "##4.  For a restaurant, create a parent class ‘Bill’ which has the properties as ‘Customer  name’, ‘Table Number’ and ‘Order’ of which the name, order are strings and table  number is a positive integer. Define a method to extract the order details from the string and return a 2-D array of ordered items & their number. Create a child class ‘ 'Restaurant Bill’ which has a property called ‘Price list’ of the items and has a method to calculate the total bill amount by using the price list and order details. Also have a   method to print the complete bill for the customer including taxes and service charges.\n",
        "\n",
        "     The strings will be of the following format:\n",
        "\n",
        "     #Name: “Akshay” (Name of the customer)\n",
        "\n",
        "     #Table Number: 7 (Table Number)\n",
        "\n",
        "     #Order: “Item1x1,Item2x3,Item3x1,…” (ItemxNumber needed)\n",
        "\n",
        "     #Price List: “Item1-100,Item2-70,Item3-250,...” (Item-Price)"
      ],
      "metadata": {
        "id": "Hq0k3DOqFWPq"
      }
    },
    {
      "cell_type": "code",
      "source": [
        "class Bill:\n",
        "    def __init__(self, customer_name, table_number, order):\n",
        "        \"\"\"\n",
        "        Initialize Bill object with customer name, table number, and order.\n",
        "\n",
        "        Args:\n",
        "            customer_name (str): Name of the customer.\n",
        "            table_number (int): Table number.\n",
        "            order (str): String representing the order in the format \"Item1x1,Item2x3,Item3x1,...\".\n",
        "        \"\"\"\n",
        "        self.customer_name = customer_name\n",
        "        self.table_number = table_number\n",
        "        self.order = order\n",
        "\n",
        "    def extract_order_details(self):\n",
        "        \"\"\"\n",
        "        Extract order details from the string and return a 2-D array of ordered items & their number.\n",
        "\n",
        "        Returns:\n",
        "            list: List of lists containing item names and their quantities, e.g., [['Item1', 1], ['Item2', 3], ...]\n",
        "        \"\"\"\n",
        "        order_details = []\n",
        "        items = self.order.split(',')\n",
        "        for item in items:\n",
        "            name, quantity = item.split('x')\n",
        "            order_details.append([name.strip(), int(quantity)])\n",
        "        return order_details\n",
        "\n",
        "\n",
        "class RestaurantBill(Bill):\n",
        "    def __init__(self, customer_name, table_number, order, price_list):\n",
        "        \"\"\"\n",
        "        Initialize RestaurantBill object with customer name, table number, order, and price list.\n",
        "\n",
        "        Args:\n",
        "            customer_name (str): Name of the customer.\n",
        "            table_number (int): Table number.\n",
        "            order (str): String representing the order in the format \"Item1x1,Item2x3,Item3x1,...\".\n",
        "            price_list (str): String representing the price list in the format \"Item1-100,Item2-70,Item3-250,...\".\n",
        "        \"\"\"\n",
        "        super().__init__(customer_name, table_number, order)\n",
        "        self.price_list = price_list\n",
        "\n",
        "    def calculate_total_bill(self):\n",
        "        \"\"\"\n",
        "        Calculate the total bill amount by using the price list and order details.\n",
        "\n",
        "        Returns:\n",
        "            float: Total bill amount.\n",
        "        \"\"\"\n",
        "        total_bill = 0\n",
        "        order_details = self.extract_order_details()\n",
        "        for item, quantity in order_details:\n",
        "            price = self.get_item_price(item)\n",
        "            total_bill += price * quantity\n",
        "        return total_bill\n",
        "\n",
        "    def get_item_price(self, item):\n",
        "        \"\"\"\n",
        "        Get the price of the given item from the price list.\n",
        "\n",
        "        Args:\n",
        "            item (str): Name of the item.\n",
        "\n",
        "        Returns:\n",
        "            float: Price of the item.\n",
        "        \"\"\"\n",
        "        price_list = self.price_list.split(',')\n",
        "        for price_item in price_list:\n",
        "            name, price = price_item.split('-')\n",
        "            if name.strip() == item:\n",
        "                return float(price)\n",
        "        return 0  # If item not found in price list, return 0\n",
        "\n",
        "    def print_bill(self):\n",
        "        \"\"\"\n",
        "        Print the complete bill for the customer including taxes and service charges.\n",
        "        \"\"\"\n",
        "        total_bill = self.calculate_total_bill()\n",
        "        tax = 0.1 * total_bill  # Assuming tax is 10% of the total bill\n",
        "        service_charge = 0.05 * total_bill  # Assuming service charge is 5% of the total bill\n",
        "        total_amount = total_bill + tax + service_charge\n",
        "\n",
        "        print(\"Customer Name:\", self.customer_name)\n",
        "        print(\"Table Number:\", self.table_number)\n",
        "        print(\"Order:\")\n",
        "        order_details = self.extract_order_details()\n",
        "        for item, quantity in order_details:\n",
        "            print(f\"- {item}: {quantity}\")\n",
        "        print(\"Total Bill Amount:\", total_bill)\n",
        "        print(\"Tax (10%):\", tax)\n",
        "        print(\"Service Charge (5%):\", service_charge)\n",
        "        print(\"Total Amount:\", total_amount)\n",
        "\n",
        "\n",
        "# Example usage:\n",
        "customer_name = \"Vinod\"\n",
        "table_number = 8\n",
        "order = \"Item1x2,Item2x4,Item3x6\"\n",
        "price_list = \"Item1-200,Item2-70,Item3-250\"\n",
        "\n",
        "# Create a RestaurantBill object\n",
        "restaurant_bill = RestaurantBill(customer_name, table_number, order, price_list)\n",
        "\n",
        "# Print the complete bill\n",
        "restaurant_bill.print_bill()"
      ],
      "metadata": {
        "colab": {
          "base_uri": "https://localhost:8080/"
        },
        "id": "ICHX8OlRD01P",
        "outputId": "5fa15da8-6643-4df8-dee6-09fadf68bc0c"
      },
      "execution_count": 84,
      "outputs": [
        {
          "output_type": "stream",
          "name": "stdout",
          "text": [
            "Customer Name: Vinod\n",
            "Table Number: 8\n",
            "Order:\n",
            "- Item1: 2\n",
            "- Item2: 4\n",
            "- Item3: 6\n",
            "Total Bill Amount: 2180.0\n",
            "Tax (10%): 218.0\n",
            "Service Charge (5%): 109.0\n",
            "Total Amount: 2507.0\n"
          ]
        }
      ]
    },
    {
      "cell_type": "code",
      "source": [],
      "metadata": {
        "id": "RjTzqZ_4hJrs"
      },
      "execution_count": null,
      "outputs": []
    }
  ]
}